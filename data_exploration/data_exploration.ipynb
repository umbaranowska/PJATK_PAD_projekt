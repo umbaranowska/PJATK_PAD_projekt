{
 "cells": [
  {
   "cell_type": "code",
   "execution_count": 1,
   "metadata": {
    "collapsed": true
   },
   "outputs": [],
   "source": [
    "import pandas as pd\n",
    "import numpy as np\n",
    "import matplotlib.pyplot as plt\n",
    "%matplotlib inline\n",
    "import seaborn as sns\n",
    "sns.set()"
   ]
  },
  {
   "cell_type": "code",
   "execution_count": 2,
   "outputs": [
    {
     "data": {
      "text/plain": "                   nazwa    miasto                  firma  czas_gry  \\\n0              Cicha Noc   Gliwice               TickTack        75   \n1  Powstanie Warszawskie  Warszawa  Black Cat Escape Room        80   \n2            Lokalizacja   Gliwice               TickTack        75   \n3       Opuszczony Hotel   Wrocław              Exit19.pl       101   \n4             Rastamobil   Wrocław   Escape Bus / Escapeo        90   \n\n     kategoria  poziom_trudnosci liczba_ocen  miejsce_w_polsce  \\\n0   Przygodowy  śr. zaawansowani         85                  1   \n1  Historyczny  śr. zaawansowani        258                  2   \n2    Fabularny      doświadczony        271                  3   \n3     Thriller  śr. zaawansowani         57                  4   \n4   Przygodowy  śr. zaawansowani         98                  5   \n\n   języki_rosyjski  bezpieczeństwo_tylko_niskie_napięcie_w_zasięgu_gracza  \\\n0                0                                                  1       \n1                0                                                  1       \n2                0                                                  1       \n3                0                                                  1       \n4                0                                                  1       \n\n   ...  podstawowe_nie_dla_kobiet_w_ciąży  języki_polski  \\\n0  ...                                  1              1   \n1  ...                                  1              1   \n2  ...                                  1              1   \n3  ...                                  1              1   \n4  ...                                  0              1   \n\n   podstawowe_przyjazny_dzieciom  podstawowe_od_16_lat  srednia_ocena  \\\n0                              1                     0           10.0   \n1                              1                     0            9.8   \n2                              0                     1           10.0   \n3                              0                     1            9.9   \n4                              0                     0            9.9   \n\n   ocena_obsluga  ocena_klimat  trudnosc_wg_graczy  min_liczba_graczy  \\\n0           10.0          10.0              Średni                  2   \n1            9.8          10.0              Trudny                  2   \n2           10.0          10.0              Trudny                  2   \n3            9.9          10.0              Średni                  2   \n4           10.0          10.0              Średni                  2   \n\n   max_liczba_graczy  \n0                  5  \n1                  8  \n2                  5  \n3                  5  \n4                  4  \n\n[5 rows x 49 columns]",
      "text/html": "<div>\n<style scoped>\n    .dataframe tbody tr th:only-of-type {\n        vertical-align: middle;\n    }\n\n    .dataframe tbody tr th {\n        vertical-align: top;\n    }\n\n    .dataframe thead th {\n        text-align: right;\n    }\n</style>\n<table border=\"1\" class=\"dataframe\">\n  <thead>\n    <tr style=\"text-align: right;\">\n      <th></th>\n      <th>nazwa</th>\n      <th>miasto</th>\n      <th>firma</th>\n      <th>czas_gry</th>\n      <th>kategoria</th>\n      <th>poziom_trudnosci</th>\n      <th>liczba_ocen</th>\n      <th>miejsce_w_polsce</th>\n      <th>języki_rosyjski</th>\n      <th>bezpieczeństwo_tylko_niskie_napięcie_w_zasięgu_gracza</th>\n      <th>...</th>\n      <th>podstawowe_nie_dla_kobiet_w_ciąży</th>\n      <th>języki_polski</th>\n      <th>podstawowe_przyjazny_dzieciom</th>\n      <th>podstawowe_od_16_lat</th>\n      <th>srednia_ocena</th>\n      <th>ocena_obsluga</th>\n      <th>ocena_klimat</th>\n      <th>trudnosc_wg_graczy</th>\n      <th>min_liczba_graczy</th>\n      <th>max_liczba_graczy</th>\n    </tr>\n  </thead>\n  <tbody>\n    <tr>\n      <th>0</th>\n      <td>Cicha Noc</td>\n      <td>Gliwice</td>\n      <td>TickTack</td>\n      <td>75</td>\n      <td>Przygodowy</td>\n      <td>śr. zaawansowani</td>\n      <td>85</td>\n      <td>1</td>\n      <td>0</td>\n      <td>1</td>\n      <td>...</td>\n      <td>1</td>\n      <td>1</td>\n      <td>1</td>\n      <td>0</td>\n      <td>10.0</td>\n      <td>10.0</td>\n      <td>10.0</td>\n      <td>Średni</td>\n      <td>2</td>\n      <td>5</td>\n    </tr>\n    <tr>\n      <th>1</th>\n      <td>Powstanie Warszawskie</td>\n      <td>Warszawa</td>\n      <td>Black Cat Escape Room</td>\n      <td>80</td>\n      <td>Historyczny</td>\n      <td>śr. zaawansowani</td>\n      <td>258</td>\n      <td>2</td>\n      <td>0</td>\n      <td>1</td>\n      <td>...</td>\n      <td>1</td>\n      <td>1</td>\n      <td>1</td>\n      <td>0</td>\n      <td>9.8</td>\n      <td>9.8</td>\n      <td>10.0</td>\n      <td>Trudny</td>\n      <td>2</td>\n      <td>8</td>\n    </tr>\n    <tr>\n      <th>2</th>\n      <td>Lokalizacja</td>\n      <td>Gliwice</td>\n      <td>TickTack</td>\n      <td>75</td>\n      <td>Fabularny</td>\n      <td>doświadczony</td>\n      <td>271</td>\n      <td>3</td>\n      <td>0</td>\n      <td>1</td>\n      <td>...</td>\n      <td>1</td>\n      <td>1</td>\n      <td>0</td>\n      <td>1</td>\n      <td>10.0</td>\n      <td>10.0</td>\n      <td>10.0</td>\n      <td>Trudny</td>\n      <td>2</td>\n      <td>5</td>\n    </tr>\n    <tr>\n      <th>3</th>\n      <td>Opuszczony Hotel</td>\n      <td>Wrocław</td>\n      <td>Exit19.pl</td>\n      <td>101</td>\n      <td>Thriller</td>\n      <td>śr. zaawansowani</td>\n      <td>57</td>\n      <td>4</td>\n      <td>0</td>\n      <td>1</td>\n      <td>...</td>\n      <td>1</td>\n      <td>1</td>\n      <td>0</td>\n      <td>1</td>\n      <td>9.9</td>\n      <td>9.9</td>\n      <td>10.0</td>\n      <td>Średni</td>\n      <td>2</td>\n      <td>5</td>\n    </tr>\n    <tr>\n      <th>4</th>\n      <td>Rastamobil</td>\n      <td>Wrocław</td>\n      <td>Escape Bus / Escapeo</td>\n      <td>90</td>\n      <td>Przygodowy</td>\n      <td>śr. zaawansowani</td>\n      <td>98</td>\n      <td>5</td>\n      <td>0</td>\n      <td>1</td>\n      <td>...</td>\n      <td>0</td>\n      <td>1</td>\n      <td>0</td>\n      <td>0</td>\n      <td>9.9</td>\n      <td>10.0</td>\n      <td>10.0</td>\n      <td>Średni</td>\n      <td>2</td>\n      <td>4</td>\n    </tr>\n  </tbody>\n</table>\n<p>5 rows × 49 columns</p>\n</div>"
     },
     "execution_count": 2,
     "metadata": {},
     "output_type": "execute_result"
    }
   ],
   "source": [
    "data = pd.read_csv('../data_cleaning/04/clean_data04.csv', index_col='Unnamed: 0',\n",
    "                   na_values=['Brak', 'Brakopinii', None])\n",
    "data.head()"
   ],
   "metadata": {
    "collapsed": false,
    "pycharm": {
     "name": "#%%\n"
    }
   }
  },
  {
   "cell_type": "code",
   "execution_count": 3,
   "outputs": [
    {
     "data": {
      "text/plain": "                                    nazwa        miasto  \\\n460    Awaria zasilania w Parku Jurajskim        Kraków   \n461          Zdobyć plany Gwiazdy Śmierci        Kraków   \n462          Sala tortur Zygfryda de Löwe       Gierłoż   \n463                     Tajemnica Jumanji        Kraków   \n464                     Dawno, dawno temu        Kraków   \n465                    Warsaw puzzle tour      Warszawa   \n466                              Piramida         Dębki   \n467                              Zbrodnia       Mrągowo   \n468                     Podróże przez sny       Mrągowo   \n469                          Laboratorium       Mrągowo   \n471  Star Warz. W poszukiwaniu Holokronu.  Skierniewice   \n473                            Squad Game        Kraków   \n474            Sekrety rodziny Montgomery        Tarnów   \n475       Laboratorium szalonego naukowca        Tarnów   \n\n                                firma  czas_gry    kategoria  \\\n460  Anikino Kraina Zabaw Dziecięcych        60   Dla dzieci   \n461  Anikino Kraina Zabaw Dziecięcych        60   Dla dzieci   \n462                      Mazurolandia        60  Historyczny   \n463  Anikino Kraina Zabaw Dziecięcych        60   Dla dzieci   \n464  Anikino Kraina Zabaw Dziecięcych        60   Dla dzieci   \n465                    Escape Service        60   Przygodowy   \n466                     Locked Houses        60   Przygodowy   \n467                     Quady Mrągowo        60   Kryminalny   \n468                     Quady Mrągowo        60   Przygodowy   \n469                     Quady Mrągowo        80   Dla dzieci   \n471                 Gabinety Tajemnic        60      Fantasy   \n473                  Gamescape Kraków        30   Przygodowy   \n474                       Trzy Klucze        60     Thriller   \n475                       Trzy Klucze        60    Fabularny   \n\n     poziom_trudnosci liczba_ocen  miejsce_w_polsce  języki_rosyjski  \\\n460      początkujący       Brak                461                0   \n461      początkujący       Brak                461                0   \n462      doświadczony       Brak                461                0   \n463   na pierwszy raz       Brak                461                0   \n464      początkujący       Brak                461                0   \n465  śr. zaawansowani       Brak                461                0   \n466  śr. zaawansowani       Brak                461                0   \n467  śr. zaawansowani       Brak                461                0   \n468      doświadczony       Brak                461                0   \n469      początkujący       Brak                461                0   \n471      początkujący       Brak                461                0   \n473      doświadczony       Brak                461                0   \n474  śr. zaawansowani       Brak                461                0   \n475  śr. zaawansowani       Brak                461                0   \n\n     bezpieczeństwo_tylko_niskie_napięcie_w_zasięgu_gracza  ...  \\\n460                                                  0      ...   \n461                                                  0      ...   \n462                                                  0      ...   \n463                                                  1      ...   \n464                                                  0      ...   \n465                                                  1      ...   \n466                                                  0      ...   \n467                                                  0      ...   \n468                                                  0      ...   \n469                                                  0      ...   \n471                                                  1      ...   \n473                                                  1      ...   \n474                                                  0      ...   \n475                                                  0      ...   \n\n     podstawowe_nie_dla_kobiet_w_ciąży  języki_polski  \\\n460                                  0              1   \n461                                  0              1   \n462                                  0              1   \n463                                  0              1   \n464                                  0              1   \n465                                  0              1   \n466                                  1              1   \n467                                  0              1   \n468                                  0              1   \n469                                  0              1   \n471                                  0              1   \n473                                  0              1   \n474                                  0              1   \n475                                  0              1   \n\n     podstawowe_przyjazny_dzieciom  podstawowe_od_16_lat  srednia_ocena  \\\n460                              1                     0            NaN   \n461                              1                     0            NaN   \n462                              0                     0            NaN   \n463                              1                     0            NaN   \n464                              1                     0            NaN   \n465                              0                     0            NaN   \n466                              1                     0            NaN   \n467                              0                     0            NaN   \n468                              0                     0            NaN   \n469                              1                     0            NaN   \n471                              0                     0            NaN   \n473                              0                     0            NaN   \n474                              0                     0            NaN   \n475                              0                     0            NaN   \n\n     ocena_obsluga  ocena_klimat  trudnosc_wg_graczy  min_liczba_graczy  \\\n460            NaN           NaN                 NaN                  4   \n461            NaN           NaN                 NaN                  4   \n462            NaN           NaN                 NaN                  2   \n463            NaN           NaN                 NaN                  4   \n464            NaN           NaN                 NaN                  6   \n465            NaN           NaN                 NaN                  8   \n466            NaN           NaN                 NaN                  2   \n467            NaN           NaN                 NaN                  2   \n468            NaN           NaN                 NaN                  2   \n469            NaN           NaN                 NaN                  2   \n471            NaN           NaN                 NaN                  1   \n473            NaN           NaN                 NaN                  2   \n474            NaN           NaN                 NaN                  2   \n475            NaN           NaN                 NaN                  2   \n\n     max_liczba_graczy  \n460                 10  \n461                 10  \n462                  7  \n463                 10  \n464                 10  \n465                 30  \n466                  4  \n467                  6  \n468                  4  \n469                  6  \n471                  5  \n473                  4  \n474                  5  \n475                  3  \n\n[14 rows x 49 columns]",
      "text/html": "<div>\n<style scoped>\n    .dataframe tbody tr th:only-of-type {\n        vertical-align: middle;\n    }\n\n    .dataframe tbody tr th {\n        vertical-align: top;\n    }\n\n    .dataframe thead th {\n        text-align: right;\n    }\n</style>\n<table border=\"1\" class=\"dataframe\">\n  <thead>\n    <tr style=\"text-align: right;\">\n      <th></th>\n      <th>nazwa</th>\n      <th>miasto</th>\n      <th>firma</th>\n      <th>czas_gry</th>\n      <th>kategoria</th>\n      <th>poziom_trudnosci</th>\n      <th>liczba_ocen</th>\n      <th>miejsce_w_polsce</th>\n      <th>języki_rosyjski</th>\n      <th>bezpieczeństwo_tylko_niskie_napięcie_w_zasięgu_gracza</th>\n      <th>...</th>\n      <th>podstawowe_nie_dla_kobiet_w_ciąży</th>\n      <th>języki_polski</th>\n      <th>podstawowe_przyjazny_dzieciom</th>\n      <th>podstawowe_od_16_lat</th>\n      <th>srednia_ocena</th>\n      <th>ocena_obsluga</th>\n      <th>ocena_klimat</th>\n      <th>trudnosc_wg_graczy</th>\n      <th>min_liczba_graczy</th>\n      <th>max_liczba_graczy</th>\n    </tr>\n  </thead>\n  <tbody>\n    <tr>\n      <th>460</th>\n      <td>Awaria zasilania w Parku Jurajskim</td>\n      <td>Kraków</td>\n      <td>Anikino Kraina Zabaw Dziecięcych</td>\n      <td>60</td>\n      <td>Dla dzieci</td>\n      <td>początkujący</td>\n      <td>Brak</td>\n      <td>461</td>\n      <td>0</td>\n      <td>0</td>\n      <td>...</td>\n      <td>0</td>\n      <td>1</td>\n      <td>1</td>\n      <td>0</td>\n      <td>NaN</td>\n      <td>NaN</td>\n      <td>NaN</td>\n      <td>NaN</td>\n      <td>4</td>\n      <td>10</td>\n    </tr>\n    <tr>\n      <th>461</th>\n      <td>Zdobyć plany Gwiazdy Śmierci</td>\n      <td>Kraków</td>\n      <td>Anikino Kraina Zabaw Dziecięcych</td>\n      <td>60</td>\n      <td>Dla dzieci</td>\n      <td>początkujący</td>\n      <td>Brak</td>\n      <td>461</td>\n      <td>0</td>\n      <td>0</td>\n      <td>...</td>\n      <td>0</td>\n      <td>1</td>\n      <td>1</td>\n      <td>0</td>\n      <td>NaN</td>\n      <td>NaN</td>\n      <td>NaN</td>\n      <td>NaN</td>\n      <td>4</td>\n      <td>10</td>\n    </tr>\n    <tr>\n      <th>462</th>\n      <td>Sala tortur Zygfryda de Löwe</td>\n      <td>Gierłoż</td>\n      <td>Mazurolandia</td>\n      <td>60</td>\n      <td>Historyczny</td>\n      <td>doświadczony</td>\n      <td>Brak</td>\n      <td>461</td>\n      <td>0</td>\n      <td>0</td>\n      <td>...</td>\n      <td>0</td>\n      <td>1</td>\n      <td>0</td>\n      <td>0</td>\n      <td>NaN</td>\n      <td>NaN</td>\n      <td>NaN</td>\n      <td>NaN</td>\n      <td>2</td>\n      <td>7</td>\n    </tr>\n    <tr>\n      <th>463</th>\n      <td>Tajemnica Jumanji</td>\n      <td>Kraków</td>\n      <td>Anikino Kraina Zabaw Dziecięcych</td>\n      <td>60</td>\n      <td>Dla dzieci</td>\n      <td>na pierwszy raz</td>\n      <td>Brak</td>\n      <td>461</td>\n      <td>0</td>\n      <td>1</td>\n      <td>...</td>\n      <td>0</td>\n      <td>1</td>\n      <td>1</td>\n      <td>0</td>\n      <td>NaN</td>\n      <td>NaN</td>\n      <td>NaN</td>\n      <td>NaN</td>\n      <td>4</td>\n      <td>10</td>\n    </tr>\n    <tr>\n      <th>464</th>\n      <td>Dawno, dawno temu</td>\n      <td>Kraków</td>\n      <td>Anikino Kraina Zabaw Dziecięcych</td>\n      <td>60</td>\n      <td>Dla dzieci</td>\n      <td>początkujący</td>\n      <td>Brak</td>\n      <td>461</td>\n      <td>0</td>\n      <td>0</td>\n      <td>...</td>\n      <td>0</td>\n      <td>1</td>\n      <td>1</td>\n      <td>0</td>\n      <td>NaN</td>\n      <td>NaN</td>\n      <td>NaN</td>\n      <td>NaN</td>\n      <td>6</td>\n      <td>10</td>\n    </tr>\n    <tr>\n      <th>465</th>\n      <td>Warsaw puzzle tour</td>\n      <td>Warszawa</td>\n      <td>Escape Service</td>\n      <td>60</td>\n      <td>Przygodowy</td>\n      <td>śr. zaawansowani</td>\n      <td>Brak</td>\n      <td>461</td>\n      <td>0</td>\n      <td>1</td>\n      <td>...</td>\n      <td>0</td>\n      <td>1</td>\n      <td>0</td>\n      <td>0</td>\n      <td>NaN</td>\n      <td>NaN</td>\n      <td>NaN</td>\n      <td>NaN</td>\n      <td>8</td>\n      <td>30</td>\n    </tr>\n    <tr>\n      <th>466</th>\n      <td>Piramida</td>\n      <td>Dębki</td>\n      <td>Locked Houses</td>\n      <td>60</td>\n      <td>Przygodowy</td>\n      <td>śr. zaawansowani</td>\n      <td>Brak</td>\n      <td>461</td>\n      <td>0</td>\n      <td>0</td>\n      <td>...</td>\n      <td>1</td>\n      <td>1</td>\n      <td>1</td>\n      <td>0</td>\n      <td>NaN</td>\n      <td>NaN</td>\n      <td>NaN</td>\n      <td>NaN</td>\n      <td>2</td>\n      <td>4</td>\n    </tr>\n    <tr>\n      <th>467</th>\n      <td>Zbrodnia</td>\n      <td>Mrągowo</td>\n      <td>Quady Mrągowo</td>\n      <td>60</td>\n      <td>Kryminalny</td>\n      <td>śr. zaawansowani</td>\n      <td>Brak</td>\n      <td>461</td>\n      <td>0</td>\n      <td>0</td>\n      <td>...</td>\n      <td>0</td>\n      <td>1</td>\n      <td>0</td>\n      <td>0</td>\n      <td>NaN</td>\n      <td>NaN</td>\n      <td>NaN</td>\n      <td>NaN</td>\n      <td>2</td>\n      <td>6</td>\n    </tr>\n    <tr>\n      <th>468</th>\n      <td>Podróże przez sny</td>\n      <td>Mrągowo</td>\n      <td>Quady Mrągowo</td>\n      <td>60</td>\n      <td>Przygodowy</td>\n      <td>doświadczony</td>\n      <td>Brak</td>\n      <td>461</td>\n      <td>0</td>\n      <td>0</td>\n      <td>...</td>\n      <td>0</td>\n      <td>1</td>\n      <td>0</td>\n      <td>0</td>\n      <td>NaN</td>\n      <td>NaN</td>\n      <td>NaN</td>\n      <td>NaN</td>\n      <td>2</td>\n      <td>4</td>\n    </tr>\n    <tr>\n      <th>469</th>\n      <td>Laboratorium</td>\n      <td>Mrągowo</td>\n      <td>Quady Mrągowo</td>\n      <td>80</td>\n      <td>Dla dzieci</td>\n      <td>początkujący</td>\n      <td>Brak</td>\n      <td>461</td>\n      <td>0</td>\n      <td>0</td>\n      <td>...</td>\n      <td>0</td>\n      <td>1</td>\n      <td>1</td>\n      <td>0</td>\n      <td>NaN</td>\n      <td>NaN</td>\n      <td>NaN</td>\n      <td>NaN</td>\n      <td>2</td>\n      <td>6</td>\n    </tr>\n    <tr>\n      <th>471</th>\n      <td>Star Warz. W poszukiwaniu Holokronu.</td>\n      <td>Skierniewice</td>\n      <td>Gabinety Tajemnic</td>\n      <td>60</td>\n      <td>Fantasy</td>\n      <td>początkujący</td>\n      <td>Brak</td>\n      <td>461</td>\n      <td>0</td>\n      <td>1</td>\n      <td>...</td>\n      <td>0</td>\n      <td>1</td>\n      <td>0</td>\n      <td>0</td>\n      <td>NaN</td>\n      <td>NaN</td>\n      <td>NaN</td>\n      <td>NaN</td>\n      <td>1</td>\n      <td>5</td>\n    </tr>\n    <tr>\n      <th>473</th>\n      <td>Squad Game</td>\n      <td>Kraków</td>\n      <td>Gamescape Kraków</td>\n      <td>30</td>\n      <td>Przygodowy</td>\n      <td>doświadczony</td>\n      <td>Brak</td>\n      <td>461</td>\n      <td>0</td>\n      <td>1</td>\n      <td>...</td>\n      <td>0</td>\n      <td>1</td>\n      <td>0</td>\n      <td>0</td>\n      <td>NaN</td>\n      <td>NaN</td>\n      <td>NaN</td>\n      <td>NaN</td>\n      <td>2</td>\n      <td>4</td>\n    </tr>\n    <tr>\n      <th>474</th>\n      <td>Sekrety rodziny Montgomery</td>\n      <td>Tarnów</td>\n      <td>Trzy Klucze</td>\n      <td>60</td>\n      <td>Thriller</td>\n      <td>śr. zaawansowani</td>\n      <td>Brak</td>\n      <td>461</td>\n      <td>0</td>\n      <td>0</td>\n      <td>...</td>\n      <td>0</td>\n      <td>1</td>\n      <td>0</td>\n      <td>0</td>\n      <td>NaN</td>\n      <td>NaN</td>\n      <td>NaN</td>\n      <td>NaN</td>\n      <td>2</td>\n      <td>5</td>\n    </tr>\n    <tr>\n      <th>475</th>\n      <td>Laboratorium szalonego naukowca</td>\n      <td>Tarnów</td>\n      <td>Trzy Klucze</td>\n      <td>60</td>\n      <td>Fabularny</td>\n      <td>śr. zaawansowani</td>\n      <td>Brak</td>\n      <td>461</td>\n      <td>0</td>\n      <td>0</td>\n      <td>...</td>\n      <td>0</td>\n      <td>1</td>\n      <td>0</td>\n      <td>0</td>\n      <td>NaN</td>\n      <td>NaN</td>\n      <td>NaN</td>\n      <td>NaN</td>\n      <td>2</td>\n      <td>3</td>\n    </tr>\n  </tbody>\n</table>\n<p>14 rows × 49 columns</p>\n</div>"
     },
     "execution_count": 3,
     "metadata": {},
     "output_type": "execute_result"
    }
   ],
   "source": [
    "data[data.isna().any(axis=1)]"
   ],
   "metadata": {
    "collapsed": false,
    "pycharm": {
     "name": "#%%\n"
    }
   }
  },
  {
   "cell_type": "markdown",
   "source": [
    "Braki danych dotyczą 14 wierszy (z 476 pobranych przez web scraping), dla tych escape roomów użytkownicy nie wystawili żadnych recenzji. Wcześniej podczas czyszczenia odrzucono już 3 wiersze. Razem usunięto zatem 17 wierszy, czyli ok. 3.5% zbioru."
   ],
   "metadata": {
    "collapsed": false,
    "pycharm": {
     "name": "#%% md\n"
    }
   }
  },
  {
   "cell_type": "code",
   "execution_count": 4,
   "outputs": [
    {
     "data": {
      "text/plain": "(459, 49)"
     },
     "execution_count": 4,
     "metadata": {},
     "output_type": "execute_result"
    }
   ],
   "source": [
    "data = data[data.isna().any(axis=1) == False]\n",
    "data = data.reset_index(drop=True)\n",
    "data.shape"
   ],
   "metadata": {
    "collapsed": false,
    "pycharm": {
     "name": "#%%\n"
    }
   }
  },
  {
   "cell_type": "markdown",
   "source": [
    "Do dalszej analizy pozostało 459 obserwacji.\n",
    "Następnym krokiem będzie przyjrzenie się zmiennym zawierającym tekst."
   ],
   "metadata": {
    "collapsed": false,
    "pycharm": {
     "name": "#%% md\n"
    }
   }
  },
  {
   "cell_type": "code",
   "execution_count": 5,
   "outputs": [
    {
     "name": "stdout",
     "output_type": "stream",
     "text": [
      "Saloon                                3\n",
      "Łódź Podwodna                         3\n",
      "Kraina Czarów                         3\n",
      "Chata Wiedźmy                         3\n",
      "W cieniu piramid                      2\n",
      "                                     ..\n",
      "Pokój hotelowy - miejsce zabójstwa    1\n",
      "Wybudzenie                            1\n",
      "Szaman                                1\n",
      "5 Morderstw                           1\n",
      "Łóżko szpitalne                       1\n",
      "Name: nazwa, Length: 439, dtype: int64\n",
      "Warszawa               54\n",
      "Poznań                 50\n",
      "Wrocław                49\n",
      "Kraków                 37\n",
      "Bydgoszcz              22\n",
      "Gdańsk                 21\n",
      "Łódź                   20\n",
      "Katowice               16\n",
      "Bielsko-Biała          12\n",
      "Toruń                  10\n",
      "Nowy Sącz              10\n",
      "Gdynia                  9\n",
      "Chorzów                 8\n",
      "Olsztyn                 8\n",
      "Białystok               8\n",
      "Rzeszów                 7\n",
      "Szczecin                6\n",
      "Gliwice                 6\n",
      "Rybnik                  6\n",
      "Gorzów Wielkopolski     6\n",
      "Lublin                  5\n",
      "Zakopane                5\n",
      "Szczyrk                 5\n",
      "Radom                   4\n",
      "Zamość                  4\n",
      "Sopot                   4\n",
      "Tczew                   4\n",
      "Bytom                   4\n",
      "Częstochowa             3\n",
      "Wisła                   3\n",
      "Stargard                3\n",
      "Iława                   3\n",
      "Giżycko                 3\n",
      "Kielce                  3\n",
      "Grudziądz               3\n",
      "Słupsk                  3\n",
      "Żory                    3\n",
      "Radomsko                3\n",
      "Piła                    3\n",
      "Konin                   2\n",
      "Swarzędz                2\n",
      "Skierniewice            2\n",
      "Janów Lubelski          2\n",
      "Legnica                 2\n",
      "Zabrze                  2\n",
      "Opole                   2\n",
      "Karpacz                 2\n",
      "Krynica                 2\n",
      "Pszczyna                1\n",
      "Gostyń                  1\n",
      "Jelenia Góra            1\n",
      "Dębki                   1\n",
      "Kluczbork               1\n",
      "Jedlina-Zdrój           1\n",
      "Leśna                   1\n",
      "Tarnów                  1\n",
      "Name: miasto, dtype: int64\n",
      "Open The Lock          19\n",
      "LetMeOut               16\n",
      "Wyjście Awaryjne       14\n",
      "ExitRoom ™             11\n",
      "Exit19.pl              11\n",
      "                       ..\n",
      "Next Room Katowice      1\n",
      "IN DA CLUB              1\n",
      "Evadere                 1\n",
      "Escape Room Rzeszów     1\n",
      "Trzy Klucze             1\n",
      "Name: firma, Length: 128, dtype: int64\n",
      "Przygodowy       196\n",
      "Thriller          67\n",
      "Fabularny         60\n",
      "Kryminalny        51\n",
      "Fantasy           24\n",
      "Horror            22\n",
      "Historyczny       15\n",
      "Abstrakcyjny      13\n",
      "Dla dzieci         6\n",
      "Akcja              4\n",
      "Futurystyczny      1\n",
      "Name: kategoria, dtype: int64\n",
      "śr. zaawansowani    249\n",
      "początkujący        102\n",
      "doświadczony         92\n",
      "eksperci              8\n",
      "na pierwszy raz       7\n",
      "brak informacji       1\n",
      "Name: poziom_trudnosci, dtype: int64\n",
      "Średni           215\n",
      "Trudny           206\n",
      "Łatwy             28\n",
      "Bardzo trudny      9\n",
      "Bardzo łatwy       1\n",
      "Name: trudnosc_wg_graczy, dtype: int64\n"
     ]
    }
   ],
   "source": [
    "zmienne_tekst = ['nazwa', 'miasto', 'firma', 'kategoria', 'poziom_trudnosci', 'trudnosc_wg_graczy']\n",
    "for x in zmienne_tekst:\n",
    "    print(data[x].value_counts())"
   ],
   "metadata": {
    "collapsed": false,
    "pycharm": {
     "name": "#%%\n"
    }
   }
  },
  {
   "cell_type": "markdown",
   "source": [
    "W kilku przypadkach mamy powtarzające się nazwy - bardzo rzadko jest to ten sam pokój przeniesiony do innego miasta, raczej świadczy to o popularności danej tematyki / klimatu.\n",
    "Escape roomy znajdują się głównie w większych miastach - warto byłoby zwizualizować to na mapie Polski (bąble w danych miastach - wielkość odpowiada liczbie escape roomów).\n",
    "Warto też bliżej przyjrzeć się nazwom firm - czy możliwe że istnieje kilka różnych firm o tej samej nazwie, czy może tak jak w przypadku Wyjścia Awaryjnego mają oddziały w różnych miastach i stąd takie liczności?\n",
    "Kategorie i poziom trudności - prawdopodobnie najlepiej będzie pokazać na wykresach słupkowych.\n",
    "Do sprawdzenia - czy poziom trudności zgadza się z poziomem trudności ocenionym przez graczy? Czy może jest tu jakaś zależność warta uwagi?"
   ],
   "metadata": {
    "collapsed": false,
    "pycharm": {
     "name": "#%% md\n"
    }
   }
  },
  {
   "cell_type": "markdown",
   "source": [
    "Następnym krokiem jest szybki raport pandas profiling - jest to najszybszy sposób na sprawdzenie rozkładów przy tak dużej liczbie zmiennych i wyłapanie nietypowych, wartych uwagi wartości. Może się też okazać, że część atrybutów pojawia się tylko w przypadku pojedynczych pokoi i można pominąć je w dalszej analizie"
   ],
   "metadata": {
    "collapsed": false,
    "pycharm": {
     "name": "#%% md\n"
    }
   }
  },
  {
   "cell_type": "code",
   "execution_count": 6,
   "outputs": [
    {
     "data": {
      "text/plain": "Summarize dataset:   0%|          | 0/5 [00:00<?, ?it/s]",
      "application/vnd.jupyter.widget-view+json": {
       "version_major": 2,
       "version_minor": 0,
       "model_id": "ee4e71d015ba4e3a90ca7f0cbc64e457"
      }
     },
     "metadata": {},
     "output_type": "display_data"
    },
    {
     "data": {
      "text/plain": "Generate report structure:   0%|          | 0/1 [00:00<?, ?it/s]",
      "application/vnd.jupyter.widget-view+json": {
       "version_major": 2,
       "version_minor": 0,
       "model_id": "e7dea540829b41f48c837a7dbdf717cd"
      }
     },
     "metadata": {},
     "output_type": "display_data"
    },
    {
     "data": {
      "text/plain": "Render HTML:   0%|          | 0/1 [00:00<?, ?it/s]",
      "application/vnd.jupyter.widget-view+json": {
       "version_major": 2,
       "version_minor": 0,
       "model_id": "a327d916e992405f9150d6c1ac72b124"
      }
     },
     "metadata": {},
     "output_type": "display_data"
    },
    {
     "data": {
      "text/plain": "Export report to file:   0%|          | 0/1 [00:00<?, ?it/s]",
      "application/vnd.jupyter.widget-view+json": {
       "version_major": 2,
       "version_minor": 0,
       "model_id": "b8e33e3204bb48d992d6fdc232225784"
      }
     },
     "metadata": {},
     "output_type": "display_data"
    }
   ],
   "source": [
    "from pandas_profiling import ProfileReport\n",
    "prof = ProfileReport(data, minimal=True)\n",
    "prof.to_file(output_file='profiling_minimal01.html')"
   ],
   "metadata": {
    "collapsed": false,
    "pycharm": {
     "name": "#%%\n"
    }
   }
  },
  {
   "cell_type": "code",
   "execution_count": 7,
   "outputs": [
    {
     "data": {
      "text/plain": "<AxesSubplot:>"
     },
     "execution_count": 7,
     "metadata": {},
     "output_type": "execute_result"
    },
    {
     "data": {
      "text/plain": "<Figure size 432x288 with 1 Axes>",
      "image/png": "[encoded data removed]"
     },
     "metadata": {},
     "output_type": "display_data"
    }
   ],
   "source": [
    "data['srednia_ocena'].hist(bins=50)"
   ],
   "metadata": {
    "collapsed": false,
    "pycharm": {
     "name": "#%%\n"
    }
   }
  },
  {
   "cell_type": "markdown",
   "source": [
    "Z dalszej analizy można wykluczyć zmienne dla których >95% może nawet >90% to zera - zwykle są to pojedyncze przypadki - np. jeden escape rooom online z prawdziwym mistzem gry (jest to jednocześnie jednyny przypadek gdzie języki_polski == 0 co wynika z przesunięcia sekcji z językiem na rzecz tej z informacją o prawdziwym mistrzu gry), 3 escape roomy dostępne w języku słowackim, wszystkie w tej samej miejscowości obok granicy ze Słowacją.\n",
    "Dodatkowo zmienne takie jak nazwa czy miejsce w Polsce też prawdopodobnie nie będą ważne podczas analizy ale zostaną zachowane do ew. wizualizacji, itp."
   ],
   "metadata": {
    "collapsed": false,
    "pycharm": {
     "name": "#%% md\n"
    }
   }
  },
  {
   "cell_type": "code",
   "execution_count": 8,
   "outputs": [
    {
     "name": "stdout",
     "output_type": "stream",
     "text": [
      "9 13\n"
     ]
    }
   ],
   "source": [
    "do_odrzucenia_95 = ['języki_rosyjski', 'podstawowe_bardzo_wąskie_przejścia', 'bezpieczeństwo_dezynfekcja_lampami_uvc', 'podstawowe_pokój_eliminacyjny_poland_escape', 'inne_prawdziwy_mistrz_gry', 'języki_słowacki', 'języki_czeski', 'podstawowe_nie_dla_osób_z_chorobami_serca', 'podstawowe_od_18_lat']\n",
    "do_odrzucenia_90 = do_odrzucenia_95 + ['podstawowe_możesz_kupić_tutaj_escape_tales', 'podstawowe_półmrok_w_pokoju', 'podstawowe_gra_bez_aktora', 'podstawowe_przyjazny_niepełnosprawnym']\n",
    "print(len(do_odrzucenia_95), len(do_odrzucenia_90))"
   ],
   "metadata": {
    "collapsed": false,
    "pycharm": {
     "name": "#%%\n"
    }
   }
  },
  {
   "cell_type": "code",
   "execution_count": 9,
   "outputs": [
    {
     "name": "stdout",
     "output_type": "stream",
     "text": [
      "(459, 40)\n",
      "(459, 36)\n"
     ]
    }
   ],
   "source": [
    "data95 = data.drop(columns=do_odrzucenia_95)\n",
    "print(data95.shape)\n",
    "data90 = data.drop(columns=do_odrzucenia_90)\n",
    "print(data90.shape)"
   ],
   "metadata": {
    "collapsed": false,
    "pycharm": {
     "name": "#%%\n"
    }
   }
  },
  {
   "cell_type": "code",
   "execution_count": 10,
   "outputs": [
    {
     "data": {
      "text/plain": "Summarize dataset:   0%|          | 0/5 [00:00<?, ?it/s]",
      "application/vnd.jupyter.widget-view+json": {
       "version_major": 2,
       "version_minor": 0,
       "model_id": "2ab7ae5ca1904d38af9b5318df3e6eb9"
      }
     },
     "metadata": {},
     "output_type": "display_data"
    },
    {
     "data": {
      "text/plain": "Generate report structure:   0%|          | 0/1 [00:00<?, ?it/s]",
      "application/vnd.jupyter.widget-view+json": {
       "version_major": 2,
       "version_minor": 0,
       "model_id": "8e15afb6e7c046eb9eee39d4e1db9458"
      }
     },
     "metadata": {},
     "output_type": "display_data"
    },
    {
     "data": {
      "text/plain": "Render HTML:   0%|          | 0/1 [00:00<?, ?it/s]",
      "application/vnd.jupyter.widget-view+json": {
       "version_major": 2,
       "version_minor": 0,
       "model_id": "c913bf779b6c4ae68494e3e498f9aaee"
      }
     },
     "metadata": {},
     "output_type": "display_data"
    },
    {
     "data": {
      "text/plain": "Export report to file:   0%|          | 0/1 [00:00<?, ?it/s]",
      "application/vnd.jupyter.widget-view+json": {
       "version_major": 2,
       "version_minor": 0,
       "model_id": "4e76ab4b0c064e69932098951a2d6a39"
      }
     },
     "metadata": {},
     "output_type": "display_data"
    }
   ],
   "source": [
    "from pandas_profiling import ProfileReport\n",
    "# prof = ProfileReport(data95, minimal=True)\n",
    "# prof.to_file(output_file='profiling_minimal02_95.html')\n",
    "prof = ProfileReport(data90)\n",
    "prof.to_file(output_file='profiling_minimal02_90.html')"
   ],
   "metadata": {
    "collapsed": false,
    "pycharm": {
     "name": "#%%\n"
    }
   }
  },
  {
   "cell_type": "code",
   "execution_count": 11,
   "outputs": [],
   "source": [
    "data90.to_csv('data_clean.csv')"
   ],
   "metadata": {
    "collapsed": false,
    "pycharm": {
     "name": "#%%\n"
    }
   }
  }
 ],
 "metadata": {
  "kernelspec": {
   "display_name": "Python 3",
   "language": "python",
   "name": "python3"
  },
  "language_info": {
   "codemirror_mode": {
    "name": "ipython",
    "version": 2
   },
   "file_extension": ".py",
   "mimetype": "text/x-python",
   "name": "python",
   "nbconvert_exporter": "python",
   "pygments_lexer": "ipython2",
   "version": "2.7.6"
  }
 },
 "nbformat": 4,
 "nbformat_minor": 0
}