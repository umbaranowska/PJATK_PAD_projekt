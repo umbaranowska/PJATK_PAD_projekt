{
 "cells": [
  {
   "cell_type": "code",
   "execution_count": 1,
   "metadata": {
    "collapsed": true,
    "pycharm": {
     "name": "#%%\n"
    }
   },
   "outputs": [],
   "source": [
    "import pandas as pd\n",
    "df = pd.read_csv('..\\data_final.csv').rename(columns = {'Unnamed: 0' : 'ind'})\n",
    "Y = df['srednia_ocena']\n",
    "\n",
    "from sklearn.tree import DecisionTreeRegressor\n",
    "\n",
    "regressor = DecisionTreeRegressor(random_state = 0)\n",
    "X = pd.get_dummies(df[['czas_gry', 'podstawowe_nie_dla_kobiet_w_ciąży', 'podstawowe_przyjazny_dzieciom',\n",
    "        'bezpieczeństwo_dezynfekowane_pokoje', 'bezpieczeństwo_dostępny_żel_antybakteryjny']])\n",
    "regressor.fit(X, Y)\n",
    "from sklearn.tree import export_graphviz\n",
    "export_graphviz(regressor, out_file ='tree1.dot', feature_names=list(X.columns))\n",
    "\n",
    "regressor = DecisionTreeRegressor(random_state = 0)\n",
    "X = pd.get_dummies(df[['czas_gry', 'podstawowe_nie_dla_kobiet_w_ciąży', 'podstawowe_przyjazny_dzieciom',\n",
    "        'bezpieczeństwo_dezynfekowane_pokoje', 'bezpieczeństwo_dostępny_żel_antybakteryjny', 'kategoria', 'poziom_trudnosci']])\n",
    "regressor.fit(X, Y)\n",
    "from sklearn.tree import export_graphviz\n",
    "export_graphviz(regressor, out_file ='tree2.dot', feature_names=list(X.columns))\n",
    "\n",
    "regressor = DecisionTreeRegressor(random_state = 0)\n",
    "X = pd.get_dummies(df[['kategoria', 'poziom_trudnosci']])\n",
    "regressor.fit(X, Y)\n",
    "from sklearn.tree import export_graphviz\n",
    "export_graphviz(regressor, out_file ='tree3.dot', feature_names=list(X.columns))\n",
    "\n",
    "regressor = DecisionTreeRegressor(random_state = 0)\n",
    "X = pd.get_dummies(df[['kategoria', 'poziom_trudnosci', 'miasto']])\n",
    "regressor.fit(X, Y)\n",
    "from sklearn.tree import export_graphviz\n",
    "export_graphviz(regressor, out_file ='tree4.dot', feature_names=list(X.columns))\n",
    "\n",
    "# wizualizacja drzew http://viz-js.com/"
   ]
  }
 ],
 "metadata": {
  "kernelspec": {
   "display_name": "Python 3",
   "language": "python",
   "name": "python3"
  },
  "language_info": {
   "codemirror_mode": {
    "name": "ipython",
    "version": 2
   },
   "file_extension": ".py",
   "mimetype": "text/x-python",
   "name": "python",
   "nbconvert_exporter": "python",
   "pygments_lexer": "ipython2",
   "version": "2.7.6"
  }
 },
 "nbformat": 4,
 "nbformat_minor": 0
}