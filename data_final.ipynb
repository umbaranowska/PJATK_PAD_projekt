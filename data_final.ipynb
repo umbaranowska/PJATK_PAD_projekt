{
 "cells": [
  {
   "cell_type": "code",
   "execution_count": 2,
   "metadata": {
    "collapsed": true,
    "pycharm": {
     "name": "#%%\n"
    }
   },
   "outputs": [
    {
     "data": {
      "text/plain": "                   nazwa    miasto                  firma  czas_gry  \\\n0              Cicha Noc   Gliwice               TickTack        75   \n1  Powstanie Warszawskie  Warszawa  Black Cat Escape Room        80   \n2            Lokalizacja   Gliwice               TickTack        75   \n3       Opuszczony Hotel   Wrocław              Exit19.pl       101   \n4             Rastamobil   Wrocław   Escape Bus / Escapeo        90   \n\n     kategoria  poziom_trudnosci liczba_ocen  miejsce_w_polsce  \\\n0   Przygodowy  śr. zaawansowani         85                  1   \n1  Historyczny  śr. zaawansowani        258                  2   \n2    Fabularny      doświadczony        271                  3   \n3     Thriller  śr. zaawansowani         57                  4   \n4   Przygodowy  śr. zaawansowani         98                  5   \n\n   bezpieczeństwo_tylko_niskie_napięcie_w_zasięgu_gracza  \\\n0                                                  1       \n1                                                  1       \n2                                                  1       \n3                                                  1       \n4                                                  1       \n\n   bezpieczeństwo_dezynfekowane_pokoje  ...  \\\n0                                    1  ...   \n1                                    1  ...   \n2                                    0  ...   \n3                                    1  ...   \n4                                    1  ...   \n\n   podstawowe_nie_dla_kobiet_w_ciąży  języki_polski  \\\n0                                  1              1   \n1                                  1              1   \n2                                  1              1   \n3                                  1              1   \n4                                  0              1   \n\n   podstawowe_przyjazny_dzieciom  podstawowe_od_16_lat  srednia_ocena  \\\n0                              1                     0           10.0   \n1                              1                     0            9.8   \n2                              0                     1           10.0   \n3                              0                     1            9.9   \n4                              0                     0            9.9   \n\n   ocena_obsluga  ocena_klimat  trudnosc_wg_graczy  min_liczba_graczy  \\\n0           10.0          10.0              Średni                  2   \n1            9.8          10.0              Trudny                  2   \n2           10.0          10.0              Trudny                  2   \n3            9.9          10.0              Średni                  2   \n4           10.0          10.0              Średni                  2   \n\n   max_liczba_graczy  \n0                  5  \n1                  8  \n2                  5  \n3                  5  \n4                  4  \n\n[5 rows x 36 columns]",
      "text/html": "<div>\n<style scoped>\n    .dataframe tbody tr th:only-of-type {\n        vertical-align: middle;\n    }\n\n    .dataframe tbody tr th {\n        vertical-align: top;\n    }\n\n    .dataframe thead th {\n        text-align: right;\n    }\n</style>\n<table border=\"1\" class=\"dataframe\">\n  <thead>\n    <tr style=\"text-align: right;\">\n      <th></th>\n      <th>nazwa</th>\n      <th>miasto</th>\n      <th>firma</th>\n      <th>czas_gry</th>\n      <th>kategoria</th>\n      <th>poziom_trudnosci</th>\n      <th>liczba_ocen</th>\n      <th>miejsce_w_polsce</th>\n      <th>bezpieczeństwo_tylko_niskie_napięcie_w_zasięgu_gracza</th>\n      <th>bezpieczeństwo_dezynfekowane_pokoje</th>\n      <th>...</th>\n      <th>podstawowe_nie_dla_kobiet_w_ciąży</th>\n      <th>języki_polski</th>\n      <th>podstawowe_przyjazny_dzieciom</th>\n      <th>podstawowe_od_16_lat</th>\n      <th>srednia_ocena</th>\n      <th>ocena_obsluga</th>\n      <th>ocena_klimat</th>\n      <th>trudnosc_wg_graczy</th>\n      <th>min_liczba_graczy</th>\n      <th>max_liczba_graczy</th>\n    </tr>\n  </thead>\n  <tbody>\n    <tr>\n      <th>0</th>\n      <td>Cicha Noc</td>\n      <td>Gliwice</td>\n      <td>TickTack</td>\n      <td>75</td>\n      <td>Przygodowy</td>\n      <td>śr. zaawansowani</td>\n      <td>85</td>\n      <td>1</td>\n      <td>1</td>\n      <td>1</td>\n      <td>...</td>\n      <td>1</td>\n      <td>1</td>\n      <td>1</td>\n      <td>0</td>\n      <td>10.0</td>\n      <td>10.0</td>\n      <td>10.0</td>\n      <td>Średni</td>\n      <td>2</td>\n      <td>5</td>\n    </tr>\n    <tr>\n      <th>1</th>\n      <td>Powstanie Warszawskie</td>\n      <td>Warszawa</td>\n      <td>Black Cat Escape Room</td>\n      <td>80</td>\n      <td>Historyczny</td>\n      <td>śr. zaawansowani</td>\n      <td>258</td>\n      <td>2</td>\n      <td>1</td>\n      <td>1</td>\n      <td>...</td>\n      <td>1</td>\n      <td>1</td>\n      <td>1</td>\n      <td>0</td>\n      <td>9.8</td>\n      <td>9.8</td>\n      <td>10.0</td>\n      <td>Trudny</td>\n      <td>2</td>\n      <td>8</td>\n    </tr>\n    <tr>\n      <th>2</th>\n      <td>Lokalizacja</td>\n      <td>Gliwice</td>\n      <td>TickTack</td>\n      <td>75</td>\n      <td>Fabularny</td>\n      <td>doświadczony</td>\n      <td>271</td>\n      <td>3</td>\n      <td>1</td>\n      <td>0</td>\n      <td>...</td>\n      <td>1</td>\n      <td>1</td>\n      <td>0</td>\n      <td>1</td>\n      <td>10.0</td>\n      <td>10.0</td>\n      <td>10.0</td>\n      <td>Trudny</td>\n      <td>2</td>\n      <td>5</td>\n    </tr>\n    <tr>\n      <th>3</th>\n      <td>Opuszczony Hotel</td>\n      <td>Wrocław</td>\n      <td>Exit19.pl</td>\n      <td>101</td>\n      <td>Thriller</td>\n      <td>śr. zaawansowani</td>\n      <td>57</td>\n      <td>4</td>\n      <td>1</td>\n      <td>1</td>\n      <td>...</td>\n      <td>1</td>\n      <td>1</td>\n      <td>0</td>\n      <td>1</td>\n      <td>9.9</td>\n      <td>9.9</td>\n      <td>10.0</td>\n      <td>Średni</td>\n      <td>2</td>\n      <td>5</td>\n    </tr>\n    <tr>\n      <th>4</th>\n      <td>Rastamobil</td>\n      <td>Wrocław</td>\n      <td>Escape Bus / Escapeo</td>\n      <td>90</td>\n      <td>Przygodowy</td>\n      <td>śr. zaawansowani</td>\n      <td>98</td>\n      <td>5</td>\n      <td>1</td>\n      <td>1</td>\n      <td>...</td>\n      <td>0</td>\n      <td>1</td>\n      <td>0</td>\n      <td>0</td>\n      <td>9.9</td>\n      <td>10.0</td>\n      <td>10.0</td>\n      <td>Średni</td>\n      <td>2</td>\n      <td>4</td>\n    </tr>\n  </tbody>\n</table>\n<p>5 rows × 36 columns</p>\n</div>"
     },
     "execution_count": 2,
     "metadata": {},
     "output_type": "execute_result"
    }
   ],
   "source": [
    "import pandas as pd\n",
    "df = pd.read_csv('data_exploration/data_clean.csv', index_col='Unnamed: 0')\n",
    "df.head()"
   ]
  },
  {
   "cell_type": "code",
   "execution_count": 5,
   "outputs": [],
   "source": [
    "df = df[(df['poziom_trudnosci'] != 'brak informacji') & (df['języki_polski'] != 0)]"
   ],
   "metadata": {
    "collapsed": false,
    "pycharm": {
     "name": "#%%\n"
    }
   }
  },
  {
   "cell_type": "code",
   "execution_count": 6,
   "outputs": [
    {
     "data": {
      "text/plain": "(457, 36)"
     },
     "execution_count": 6,
     "metadata": {},
     "output_type": "execute_result"
    }
   ],
   "source": [
    "df.shape"
   ],
   "metadata": {
    "collapsed": false,
    "pycharm": {
     "name": "#%%\n"
    }
   }
  },
  {
   "cell_type": "code",
   "execution_count": 7,
   "outputs": [],
   "source": [
    "df.to_csv('data_final.csv')"
   ],
   "metadata": {
    "collapsed": false,
    "pycharm": {
     "name": "#%%\n"
    }
   }
  }
 ],
 "metadata": {
  "kernelspec": {
   "display_name": "Python 3",
   "language": "python",
   "name": "python3"
  },
  "language_info": {
   "codemirror_mode": {
    "name": "ipython",
    "version": 2
   },
   "file_extension": ".py",
   "mimetype": "text/x-python",
   "name": "python",
   "nbconvert_exporter": "python",
   "pygments_lexer": "ipython2",
   "version": "2.7.6"
  }
 },
 "nbformat": 4,
 "nbformat_minor": 0
}