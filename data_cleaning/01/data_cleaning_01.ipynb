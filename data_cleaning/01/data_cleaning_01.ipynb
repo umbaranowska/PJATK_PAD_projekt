{
 "cells": [
  {
   "cell_type": "code",
   "execution_count": 21,
   "metadata": {
    "collapsed": true
   },
   "outputs": [
    {
     "data": {
      "text/plain": "   Unnamed: 0                  nazwa    miasto                  firma  \\\n0           0              Cicha Noc   Gliwice               TickTack   \n1           1  Powstanie Warszawskie  Warszawa  Black Cat Escape Room   \n2           2            Lokalizacja   Gliwice               TickTack   \n3           3       Opuszczony Hotel   Wrocław              Exit19.pl   \n4           4             Rastamobil   Wrocław   Escape Bus / Escapeo   \n\n  liczba_graczy   czas_gry    kategoria  poziom_trudnosci liczba_ocen  \\\n0      2-5 osób   75 minut   Przygodowy  śr. zaawansowani   85 opinii   \n1      2-8 osób   80 minut  Historyczny  śr. zaawansowani  258 opinii   \n2      2-5 osób   75 minut    Fabularny      doświadczony  271 opinii   \n3      2-5 osób  101 minut     Thriller  śr. zaawansowani   57 opinii   \n4     2-4 osoby   90 minut   Przygodowy  śr. zaawansowani   98 opinii   \n\n     miejsce_w_polsce  ... wazne3_12 wazne3_13 wazne3_14 wazne3_15 wazne3_16  \\\n0  Polska: 1. miejsce  ...       NaN       NaN       NaN       NaN       NaN   \n1  Polska: 2. miejsce  ...       NaN       NaN       NaN       NaN       NaN   \n2  Polska: 3. miejsce  ...       NaN       NaN       NaN       NaN       NaN   \n3  Polska: 4. miejsce  ...       NaN       NaN       NaN       NaN       NaN   \n4  Polska: 5. miejsce  ...       NaN       NaN       NaN       NaN       NaN   \n\n  wazne3_17 wazne3_18 wazne3_19 wazne3_20  \\\n0       NaN       NaN       NaN       NaN   \n1       NaN       NaN       NaN       NaN   \n2       NaN       NaN       NaN       NaN   \n3       NaN       NaN       NaN       NaN   \n4       NaN       NaN       NaN       NaN   \n\n                                               oceny  \n0  10\\r\\nObsługa:\\r\\n10/10\\r\\nKlimat:\\r\\n10/10\\r\\...  \n1  9 .8\\r\\nObsługa:\\r\\n9,8/10\\r\\nKlimat:\\r\\n10/10...  \n2  10\\r\\nObsługa:\\r\\n10/10\\r\\nKlimat:\\r\\n10/10\\r\\...  \n3  9 .9\\r\\nObsługa:\\r\\n9,9/10\\r\\nKlimat:\\r\\n10/10...  \n4  9 .9\\r\\nObsługa:\\r\\n10/10\\r\\nKlimat:\\r\\n10/10\\...  \n\n[5 rows x 71 columns]",
      "text/html": "<div>\n<style scoped>\n    .dataframe tbody tr th:only-of-type {\n        vertical-align: middle;\n    }\n\n    .dataframe tbody tr th {\n        vertical-align: top;\n    }\n\n    .dataframe thead th {\n        text-align: right;\n    }\n</style>\n<table border=\"1\" class=\"dataframe\">\n  <thead>\n    <tr style=\"text-align: right;\">\n      <th></th>\n      <th>Unnamed: 0</th>\n      <th>nazwa</th>\n      <th>miasto</th>\n      <th>firma</th>\n      <th>liczba_graczy</th>\n      <th>czas_gry</th>\n      <th>kategoria</th>\n      <th>poziom_trudnosci</th>\n      <th>liczba_ocen</th>\n      <th>miejsce_w_polsce</th>\n      <th>...</th>\n      <th>wazne3_12</th>\n      <th>wazne3_13</th>\n      <th>wazne3_14</th>\n      <th>wazne3_15</th>\n      <th>wazne3_16</th>\n      <th>wazne3_17</th>\n      <th>wazne3_18</th>\n      <th>wazne3_19</th>\n      <th>wazne3_20</th>\n      <th>oceny</th>\n    </tr>\n  </thead>\n  <tbody>\n    <tr>\n      <th>0</th>\n      <td>0</td>\n      <td>Cicha Noc</td>\n      <td>Gliwice</td>\n      <td>TickTack</td>\n      <td>2-5 osób</td>\n      <td>75 minut</td>\n      <td>Przygodowy</td>\n      <td>śr. zaawansowani</td>\n      <td>85 opinii</td>\n      <td>Polska: 1. miejsce</td>\n      <td>...</td>\n      <td>NaN</td>\n      <td>NaN</td>\n      <td>NaN</td>\n      <td>NaN</td>\n      <td>NaN</td>\n      <td>NaN</td>\n      <td>NaN</td>\n      <td>NaN</td>\n      <td>NaN</td>\n      <td>10\\r\\nObsługa:\\r\\n10/10\\r\\nKlimat:\\r\\n10/10\\r\\...</td>\n    </tr>\n    <tr>\n      <th>1</th>\n      <td>1</td>\n      <td>Powstanie Warszawskie</td>\n      <td>Warszawa</td>\n      <td>Black Cat Escape Room</td>\n      <td>2-8 osób</td>\n      <td>80 minut</td>\n      <td>Historyczny</td>\n      <td>śr. zaawansowani</td>\n      <td>258 opinii</td>\n      <td>Polska: 2. miejsce</td>\n      <td>...</td>\n      <td>NaN</td>\n      <td>NaN</td>\n      <td>NaN</td>\n      <td>NaN</td>\n      <td>NaN</td>\n      <td>NaN</td>\n      <td>NaN</td>\n      <td>NaN</td>\n      <td>NaN</td>\n      <td>9 .8\\r\\nObsługa:\\r\\n9,8/10\\r\\nKlimat:\\r\\n10/10...</td>\n    </tr>\n    <tr>\n      <th>2</th>\n      <td>2</td>\n      <td>Lokalizacja</td>\n      <td>Gliwice</td>\n      <td>TickTack</td>\n      <td>2-5 osób</td>\n      <td>75 minut</td>\n      <td>Fabularny</td>\n      <td>doświadczony</td>\n      <td>271 opinii</td>\n      <td>Polska: 3. miejsce</td>\n      <td>...</td>\n      <td>NaN</td>\n      <td>NaN</td>\n      <td>NaN</td>\n      <td>NaN</td>\n      <td>NaN</td>\n      <td>NaN</td>\n      <td>NaN</td>\n      <td>NaN</td>\n      <td>NaN</td>\n      <td>10\\r\\nObsługa:\\r\\n10/10\\r\\nKlimat:\\r\\n10/10\\r\\...</td>\n    </tr>\n    <tr>\n      <th>3</th>\n      <td>3</td>\n      <td>Opuszczony Hotel</td>\n      <td>Wrocław</td>\n      <td>Exit19.pl</td>\n      <td>2-5 osób</td>\n      <td>101 minut</td>\n      <td>Thriller</td>\n      <td>śr. zaawansowani</td>\n      <td>57 opinii</td>\n      <td>Polska: 4. miejsce</td>\n      <td>...</td>\n      <td>NaN</td>\n      <td>NaN</td>\n      <td>NaN</td>\n      <td>NaN</td>\n      <td>NaN</td>\n      <td>NaN</td>\n      <td>NaN</td>\n      <td>NaN</td>\n      <td>NaN</td>\n      <td>9 .9\\r\\nObsługa:\\r\\n9,9/10\\r\\nKlimat:\\r\\n10/10...</td>\n    </tr>\n    <tr>\n      <th>4</th>\n      <td>4</td>\n      <td>Rastamobil</td>\n      <td>Wrocław</td>\n      <td>Escape Bus / Escapeo</td>\n      <td>2-4 osoby</td>\n      <td>90 minut</td>\n      <td>Przygodowy</td>\n      <td>śr. zaawansowani</td>\n      <td>98 opinii</td>\n      <td>Polska: 5. miejsce</td>\n      <td>...</td>\n      <td>NaN</td>\n      <td>NaN</td>\n      <td>NaN</td>\n      <td>NaN</td>\n      <td>NaN</td>\n      <td>NaN</td>\n      <td>NaN</td>\n      <td>NaN</td>\n      <td>NaN</td>\n      <td>9 .9\\r\\nObsługa:\\r\\n10/10\\r\\nKlimat:\\r\\n10/10\\...</td>\n    </tr>\n  </tbody>\n</table>\n<p>5 rows × 71 columns</p>\n</div>"
     },
     "execution_count": 21,
     "metadata": {},
     "output_type": "execute_result"
    }
   ],
   "source": [
    "import pandas as pd\n",
    "from icecream import ic\n",
    "data = pd.read_csv('../../data_scraping/data.csv', na_values='NAN')\n",
    "data.head(5)"
   ]
  },
  {
   "cell_type": "code",
   "execution_count": 22,
   "outputs": [
    {
     "data": {
      "text/plain": "                   nazwa    miasto                  firma liczba_graczy  \\\n0              Cicha Noc   Gliwice               TickTack      2-5 osób   \n1  Powstanie Warszawskie  Warszawa  Black Cat Escape Room      2-8 osób   \n2            Lokalizacja   Gliwice               TickTack      2-5 osób   \n3       Opuszczony Hotel   Wrocław              Exit19.pl      2-5 osób   \n4             Rastamobil   Wrocław   Escape Bus / Escapeo     2-4 osoby   \n\n    czas_gry    kategoria  poziom_trudnosci liczba_ocen    miejsce_w_polsce  \\\n0   75 minut   Przygodowy  śr. zaawansowani   85 opinii  Polska: 1. miejsce   \n1   80 minut  Historyczny  śr. zaawansowani  258 opinii  Polska: 2. miejsce   \n2   75 minut    Fabularny      doświadczony  271 opinii  Polska: 3. miejsce   \n3  101 minut     Thriller  śr. zaawansowani   57 opinii  Polska: 4. miejsce   \n4   90 minut   Przygodowy  śr. zaawansowani   98 opinii  Polska: 5. miejsce   \n\n                           wazne1_1  ... wazne3_12 wazne3_13 wazne3_14  \\\n0                Przyjazny dzieciom  ...       NaN       NaN       NaN   \n1                Przyjazny dzieciom  ...       NaN       NaN       NaN   \n2  Pokój eliminacyjny Poland Escape  ...       NaN       NaN       NaN   \n3                     Klimatyzowany  ...       NaN       NaN       NaN   \n4                     Klimatyzowany  ...       NaN       NaN       NaN   \n\n  wazne3_15 wazne3_16 wazne3_17 wazne3_18 wazne3_19  wazne3_20  \\\n0       NaN       NaN       NaN       NaN       NaN        NaN   \n1       NaN       NaN       NaN       NaN       NaN        NaN   \n2       NaN       NaN       NaN       NaN       NaN        NaN   \n3       NaN       NaN       NaN       NaN       NaN        NaN   \n4       NaN       NaN       NaN       NaN       NaN        NaN   \n\n                                               oceny  \n0  10\\r\\nObsługa:\\r\\n10/10\\r\\nKlimat:\\r\\n10/10\\r\\...  \n1  9 .8\\r\\nObsługa:\\r\\n9,8/10\\r\\nKlimat:\\r\\n10/10...  \n2  10\\r\\nObsługa:\\r\\n10/10\\r\\nKlimat:\\r\\n10/10\\r\\...  \n3  9 .9\\r\\nObsługa:\\r\\n9,9/10\\r\\nKlimat:\\r\\n10/10...  \n4  9 .9\\r\\nObsługa:\\r\\n10/10\\r\\nKlimat:\\r\\n10/10\\...  \n\n[5 rows x 70 columns]",
      "text/html": "<div>\n<style scoped>\n    .dataframe tbody tr th:only-of-type {\n        vertical-align: middle;\n    }\n\n    .dataframe tbody tr th {\n        vertical-align: top;\n    }\n\n    .dataframe thead th {\n        text-align: right;\n    }\n</style>\n<table border=\"1\" class=\"dataframe\">\n  <thead>\n    <tr style=\"text-align: right;\">\n      <th></th>\n      <th>nazwa</th>\n      <th>miasto</th>\n      <th>firma</th>\n      <th>liczba_graczy</th>\n      <th>czas_gry</th>\n      <th>kategoria</th>\n      <th>poziom_trudnosci</th>\n      <th>liczba_ocen</th>\n      <th>miejsce_w_polsce</th>\n      <th>wazne1_1</th>\n      <th>...</th>\n      <th>wazne3_12</th>\n      <th>wazne3_13</th>\n      <th>wazne3_14</th>\n      <th>wazne3_15</th>\n      <th>wazne3_16</th>\n      <th>wazne3_17</th>\n      <th>wazne3_18</th>\n      <th>wazne3_19</th>\n      <th>wazne3_20</th>\n      <th>oceny</th>\n    </tr>\n  </thead>\n  <tbody>\n    <tr>\n      <th>0</th>\n      <td>Cicha Noc</td>\n      <td>Gliwice</td>\n      <td>TickTack</td>\n      <td>2-5 osób</td>\n      <td>75 minut</td>\n      <td>Przygodowy</td>\n      <td>śr. zaawansowani</td>\n      <td>85 opinii</td>\n      <td>Polska: 1. miejsce</td>\n      <td>Przyjazny dzieciom</td>\n      <td>...</td>\n      <td>NaN</td>\n      <td>NaN</td>\n      <td>NaN</td>\n      <td>NaN</td>\n      <td>NaN</td>\n      <td>NaN</td>\n      <td>NaN</td>\n      <td>NaN</td>\n      <td>NaN</td>\n      <td>10\\r\\nObsługa:\\r\\n10/10\\r\\nKlimat:\\r\\n10/10\\r\\...</td>\n    </tr>\n    <tr>\n      <th>1</th>\n      <td>Powstanie Warszawskie</td>\n      <td>Warszawa</td>\n      <td>Black Cat Escape Room</td>\n      <td>2-8 osób</td>\n      <td>80 minut</td>\n      <td>Historyczny</td>\n      <td>śr. zaawansowani</td>\n      <td>258 opinii</td>\n      <td>Polska: 2. miejsce</td>\n      <td>Przyjazny dzieciom</td>\n      <td>...</td>\n      <td>NaN</td>\n      <td>NaN</td>\n      <td>NaN</td>\n      <td>NaN</td>\n      <td>NaN</td>\n      <td>NaN</td>\n      <td>NaN</td>\n      <td>NaN</td>\n      <td>NaN</td>\n      <td>9 .8\\r\\nObsługa:\\r\\n9,8/10\\r\\nKlimat:\\r\\n10/10...</td>\n    </tr>\n    <tr>\n      <th>2</th>\n      <td>Lokalizacja</td>\n      <td>Gliwice</td>\n      <td>TickTack</td>\n      <td>2-5 osób</td>\n      <td>75 minut</td>\n      <td>Fabularny</td>\n      <td>doświadczony</td>\n      <td>271 opinii</td>\n      <td>Polska: 3. miejsce</td>\n      <td>Pokój eliminacyjny Poland Escape</td>\n      <td>...</td>\n      <td>NaN</td>\n      <td>NaN</td>\n      <td>NaN</td>\n      <td>NaN</td>\n      <td>NaN</td>\n      <td>NaN</td>\n      <td>NaN</td>\n      <td>NaN</td>\n      <td>NaN</td>\n      <td>10\\r\\nObsługa:\\r\\n10/10\\r\\nKlimat:\\r\\n10/10\\r\\...</td>\n    </tr>\n    <tr>\n      <th>3</th>\n      <td>Opuszczony Hotel</td>\n      <td>Wrocław</td>\n      <td>Exit19.pl</td>\n      <td>2-5 osób</td>\n      <td>101 minut</td>\n      <td>Thriller</td>\n      <td>śr. zaawansowani</td>\n      <td>57 opinii</td>\n      <td>Polska: 4. miejsce</td>\n      <td>Klimatyzowany</td>\n      <td>...</td>\n      <td>NaN</td>\n      <td>NaN</td>\n      <td>NaN</td>\n      <td>NaN</td>\n      <td>NaN</td>\n      <td>NaN</td>\n      <td>NaN</td>\n      <td>NaN</td>\n      <td>NaN</td>\n      <td>9 .9\\r\\nObsługa:\\r\\n9,9/10\\r\\nKlimat:\\r\\n10/10...</td>\n    </tr>\n    <tr>\n      <th>4</th>\n      <td>Rastamobil</td>\n      <td>Wrocław</td>\n      <td>Escape Bus / Escapeo</td>\n      <td>2-4 osoby</td>\n      <td>90 minut</td>\n      <td>Przygodowy</td>\n      <td>śr. zaawansowani</td>\n      <td>98 opinii</td>\n      <td>Polska: 5. miejsce</td>\n      <td>Klimatyzowany</td>\n      <td>...</td>\n      <td>NaN</td>\n      <td>NaN</td>\n      <td>NaN</td>\n      <td>NaN</td>\n      <td>NaN</td>\n      <td>NaN</td>\n      <td>NaN</td>\n      <td>NaN</td>\n      <td>NaN</td>\n      <td>9 .9\\r\\nObsługa:\\r\\n10/10\\r\\nKlimat:\\r\\n10/10\\...</td>\n    </tr>\n  </tbody>\n</table>\n<p>5 rows × 70 columns</p>\n</div>"
     },
     "execution_count": 22,
     "metadata": {},
     "output_type": "execute_result"
    }
   ],
   "source": [
    "# usunąć kolumnę Unnamed: 0\n",
    "data.drop(columns=['Unnamed: 0'], inplace=True)\n",
    "data.head(5)"
   ],
   "metadata": {
    "collapsed": false,
    "pycharm": {
     "name": "#%%\n"
    }
   }
  },
  {
   "cell_type": "code",
   "execution_count": 25,
   "outputs": [
    {
     "name": "stdout",
     "output_type": "stream",
     "text": [
      "nazwa :\n",
      "ile braków danych: 0\n",
      "unikalne wartości: 455\n",
      "miasto :\n",
      "ile braków danych: 0\n",
      "unikalne wartości: Warszawa               56\n",
      "Poznań                 50\n",
      "Wrocław                49\n",
      "Kraków                 42\n",
      "Bydgoszcz              22\n",
      "Gdańsk                 21\n",
      "Łódź                   20\n",
      "Katowice               16\n",
      "Bielsko-Biała          12\n",
      "Nowy Sącz              10\n",
      "Toruń                  10\n",
      "Gdynia                  9\n",
      "Chorzów                 8\n",
      "Białystok               8\n",
      "Olsztyn                 8\n",
      "Rzeszów                 7\n",
      "Szczecin                6\n",
      "Gorzów Wielkopolski     6\n",
      "Gliwice                 6\n",
      "Rybnik                  6\n",
      "Lublin                  5\n",
      "Zakopane                5\n",
      "Szczyrk                 5\n",
      "Tczew                   4\n",
      "Bytom                   4\n",
      "Radom                   4\n",
      "Zamość                  4\n",
      "Sopot                   4\n",
      "Radomsko                4\n",
      "Wisła                   3\n",
      "Tarnów                  3\n",
      "Giżycko                 3\n",
      "Iława                   3\n",
      "Kielce                  3\n",
      "Stargard                3\n",
      "Żory                    3\n",
      "Słupsk                  3\n",
      "Skierniewice            3\n",
      "Piła                    3\n",
      "Mrągowo                 3\n",
      "Częstochowa             3\n",
      "Grudziądz               3\n",
      "Legnica                 2\n",
      "Krynica                 2\n",
      "Karpacz                 2\n",
      "Swarzędz                2\n",
      "Opole                   2\n",
      "Zabrze                  2\n",
      "Janów Lubelski          2\n",
      "Dębki                   2\n",
      "Konin                   2\n",
      "Jedlina-Zdrój           1\n",
      "Gierłoż                 1\n",
      "Leśna                   1\n",
      "Kluczbork               1\n",
      "Pszczyna                1\n",
      "Jelenia Góra            1\n",
      "Gostyń                  1\n",
      "Escape City             1\n",
      "Name: miasto, dtype: int64\n",
      "firma :\n",
      "ile braków danych: 0\n",
      "unikalne wartości: 132\n",
      "liczba_graczy :\n",
      "ile braków danych: 0\n",
      "unikalne wartości: 2-5 osób     213\n",
      "2-6 osób     109\n",
      "2-4 osoby     81\n",
      "2-7 osób      14\n",
      "2-8 osób      14\n",
      "1-4 osoby      7\n",
      "3-6 osób       4\n",
      "4-10 osób      4\n",
      "2-10 osób      4\n",
      "1-2 osoby      3\n",
      "2-3 osoby      3\n",
      "3-5 osób       3\n",
      "1-5 osób       3\n",
      "1-6 osób       2\n",
      "2-2 osoby      2\n",
      "3-8 osób       2\n",
      "3-7 osób       2\n",
      "2-12 osób      1\n",
      "6-10 osób      1\n",
      "5-8 osób       1\n",
      "2-15 osób      1\n",
      "1-3 osoby      1\n",
      "8-30 osób      1\n",
      "Name: liczba_graczy, dtype: int64\n",
      "czas_gry :\n",
      "ile braków danych: 0\n",
      "unikalne wartości: 60 minut     329\n",
      "75 minut      57\n",
      "90 minut      32\n",
      "70 minut      21\n",
      "80 minut       8\n",
      "120 minut      8\n",
      "65 minut       6\n",
      "50 minut       4\n",
      "45 minut       4\n",
      "150 minut      2\n",
      "30 minut       2\n",
      "101 minut      1\n",
      "100 minut      1\n",
      "180 minut      1\n",
      "Name: czas_gry, dtype: int64\n",
      "kategoria :\n",
      "ile braków danych: 1\n",
      "unikalne wartości: Przygodowy       202\n",
      "Thriller          68\n",
      "Fabularny         61\n",
      "Kryminalny        52\n",
      "Fantasy           25\n",
      "Horror            22\n",
      "Historyczny       16\n",
      "Abstrakcyjny      13\n",
      "Dla dzieci        11\n",
      "Akcja              4\n",
      "Futurystyczny      1\n",
      "Name: kategoria, dtype: int64\n",
      "poziom_trudnosci :\n",
      "ile braków danych: 0\n",
      "unikalne wartości: śr. zaawansowani    257\n",
      "początkujący        107\n",
      "doświadczony         95\n",
      "eksperci              8\n",
      "na pierwszy raz       8\n",
      "brak informacji       1\n",
      "Name: poziom_trudnosci, dtype: int64\n",
      "liczba_ocen :\n",
      "ile braków danych: 0\n",
      "unikalne wartości: 194\n",
      "miejsce_w_polsce :\n",
      "ile braków danych: 1\n",
      "unikalne wartości: Polska: 461. miejsce    15\n",
      "Polska: 1. miejsce       1\n",
      "Polska: 303. miejsce     1\n",
      "Polska: 183. miejsce     1\n",
      "Polska: 315. miejsce     1\n",
      "                        ..\n",
      "Polska: 151. miejsce     1\n",
      "Polska: 149. miejsce     1\n",
      "Polska: 150. miejsce     1\n",
      "Polska: 148. miejsce     1\n",
      "Polska: 434. miejsce     1\n",
      "Name: miejsce_w_polsce, Length: 461, dtype: int64\n"
     ]
    }
   ],
   "source": [
    "# sprawdzić czy kolumny od nazwa do miejsce_w_polsce mają braki danych albo nietypowe wartości\n",
    "kolumny_do_sprawdzenia = ['nazwa', 'miasto', 'firma', 'liczba_graczy', 'czas_gry', 'kategoria', 'poziom_trudnosci',\n",
    "                          'liczba_ocen', 'miejsce_w_polsce']\n",
    "for k in kolumny_do_sprawdzenia:\n",
    "    print(f'{k} :')\n",
    "    print(f'ile braków danych: {sum(data[k].isna())}')\n",
    "    if k not in ['nazwa', 'firma', 'liczba_ocen']:\n",
    "        print(f'unikalne wartości: {data[k].value_counts()}')\n",
    "    else:\n",
    "        print(f'unikalne wartości: {data[k].nunique()}')"
   ],
   "metadata": {
    "collapsed": false,
    "pycharm": {
     "name": "#%%\n"
    }
   }
  },
  {
   "cell_type": "code",
   "execution_count": 24,
   "outputs": [
    {
     "name": "stderr",
     "output_type": "stream",
     "text": [
      "ic| data[data['kategoria'].isna()]:                       nazwa    miasto      firma liczba_graczy  czas_gry  \\\n",
      "                                    267  Pomocnicy Św. Mikołaja  Radomsko  Zagadkowo      2-8 osób  60 minut   \n",
      "                                    \n",
      "                                        kategoria  poziom_trudnosci liczba_ocen      miejsce_w_polsce  \\\n",
      "                                    267       NaN  śr. zaawansowani    8 opinii  Polska: 269. miejsce   \n",
      "                                    \n",
      "                                                   wazne1_1  ... wazne3_12 wazne3_13 wazne3_14 wazne3_15  \\\n",
      "                                    267  Przyjazny dzieciom  ...       NaN       NaN       NaN       NaN   \n",
      "                                    \n",
      "                                        wazne3_16 wazne3_17 wazne3_18 wazne3_19  wazne3_20  \\\n",
      "                                    267       NaN       NaN       NaN       NaN        NaN   \n",
      "                                    \n",
      "                                                                                     oceny  \n",
      "                                    267  9 .4\\r\n",
      "                                    Obsługa:\\r\n",
      "                                    10/10\\r\n",
      "                                    Klimat:\\r\n",
      "                                    10/10\\...  \n",
      "                                    \n",
      "                                    [1 rows x 70 columns]\n",
      "ic| data[data['miejsce_w_polsce'].isna()]:                 nazwa    miasto                 firma liczba_graczy  czas_gry  \\\n",
      "                                           343  Przeklęta wróżba  Warszawa  Exciting Escape Room     2-4 osoby  90 minut   \n",
      "                                           \n",
      "                                                 kategoria  poziom_trudnosci liczba_ocen miejsce_w_polsce       wazne1_1  \\\n",
      "                                           343  Przygodowy  śr. zaawansowani   50 opinii              NaN  Klimatyzowany   \n",
      "                                           \n",
      "                                                ... wazne3_12 wazne3_13 wazne3_14 wazne3_15 wazne3_16 wazne3_17  \\\n",
      "                                           343  ...       NaN       NaN       NaN       NaN       NaN       NaN   \n",
      "                                           \n",
      "                                               wazne3_18 wazne3_19  wazne3_20  oceny  \n",
      "                                           343       NaN       NaN        NaN    NaN  \n",
      "                                           \n",
      "                                           [1 rows x 70 columns]\n"
     ]
    },
    {
     "data": {
      "text/plain": "                nazwa    miasto                 firma liczba_graczy  czas_gry  \\\n343  Przeklęta wróżba  Warszawa  Exciting Escape Room     2-4 osoby  90 minut   \n\n      kategoria  poziom_trudnosci liczba_ocen miejsce_w_polsce       wazne1_1  \\\n343  Przygodowy  śr. zaawansowani   50 opinii              NaN  Klimatyzowany   \n\n     ... wazne3_12 wazne3_13 wazne3_14 wazne3_15 wazne3_16 wazne3_17  \\\n343  ...       NaN       NaN       NaN       NaN       NaN       NaN   \n\n    wazne3_18 wazne3_19  wazne3_20  oceny  \n343       NaN       NaN        NaN    NaN  \n\n[1 rows x 70 columns]",
      "text/html": "<div>\n<style scoped>\n    .dataframe tbody tr th:only-of-type {\n        vertical-align: middle;\n    }\n\n    .dataframe tbody tr th {\n        vertical-align: top;\n    }\n\n    .dataframe thead th {\n        text-align: right;\n    }\n</style>\n<table border=\"1\" class=\"dataframe\">\n  <thead>\n    <tr style=\"text-align: right;\">\n      <th></th>\n      <th>nazwa</th>\n      <th>miasto</th>\n      <th>firma</th>\n      <th>liczba_graczy</th>\n      <th>czas_gry</th>\n      <th>kategoria</th>\n      <th>poziom_trudnosci</th>\n      <th>liczba_ocen</th>\n      <th>miejsce_w_polsce</th>\n      <th>wazne1_1</th>\n      <th>...</th>\n      <th>wazne3_12</th>\n      <th>wazne3_13</th>\n      <th>wazne3_14</th>\n      <th>wazne3_15</th>\n      <th>wazne3_16</th>\n      <th>wazne3_17</th>\n      <th>wazne3_18</th>\n      <th>wazne3_19</th>\n      <th>wazne3_20</th>\n      <th>oceny</th>\n    </tr>\n  </thead>\n  <tbody>\n    <tr>\n      <th>343</th>\n      <td>Przeklęta wróżba</td>\n      <td>Warszawa</td>\n      <td>Exciting Escape Room</td>\n      <td>2-4 osoby</td>\n      <td>90 minut</td>\n      <td>Przygodowy</td>\n      <td>śr. zaawansowani</td>\n      <td>50 opinii</td>\n      <td>NaN</td>\n      <td>Klimatyzowany</td>\n      <td>...</td>\n      <td>NaN</td>\n      <td>NaN</td>\n      <td>NaN</td>\n      <td>NaN</td>\n      <td>NaN</td>\n      <td>NaN</td>\n      <td>NaN</td>\n      <td>NaN</td>\n      <td>NaN</td>\n      <td>NaN</td>\n    </tr>\n  </tbody>\n</table>\n<p>1 rows × 70 columns</p>\n</div>"
     },
     "execution_count": 24,
     "metadata": {},
     "output_type": "execute_result"
    }
   ],
   "source": [
    "ic(data[data['kategoria'].isna()])\n",
    "# Pomocnicy Św. Mikołaja - rzeczywiście brakuje kategorii na stronie\n",
    "ic(data[data['miejsce_w_polsce'].isna()])\n",
    "# Przeklęta wróżba - pokój oznaczony jako wkrótce dostępny ale jednocześnie ma recenzje z 2020?\n",
    "# będzie do usunięcia"
   ],
   "metadata": {
    "collapsed": false,
    "pycharm": {
     "name": "#%%\n"
    }
   }
  },
  {
   "cell_type": "code",
   "execution_count": 27,
   "outputs": [
    {
     "name": "stderr",
     "output_type": "stream",
     "text": [
      "ic| data[data['miasto'] == 'Escape City']:         nazwa       miasto                     firma liczba_graczy  czas_gry  \\\n",
      "                                           470  Room one  Escape City  Best Escape Room Company      2-5 osób  90 minut   \n",
      "                                           \n",
      "                                                 kategoria  poziom_trudnosci  liczba_ocen      miejsce_w_polsce  \\\n",
      "                                           470  Przygodowy  śr. zaawansowani  Brak opinii  Polska: 461. miejsce   \n",
      "                                           \n",
      "                                                          wazne1_1  ... wazne3_12 wazne3_13 wazne3_14 wazne3_15  \\\n",
      "                                           470  Przyjazny dzieciom  ...       NaN       NaN       NaN       NaN   \n",
      "                                           \n",
      "                                               wazne3_16 wazne3_17 wazne3_18 wazne3_19  wazne3_20        oceny  \n",
      "                                           470       NaN       NaN       NaN       NaN        NaN  Brak opinii  \n",
      "                                           \n",
      "                                           [1 rows x 70 columns]\n"
     ]
    },
    {
     "data": {
      "text/plain": "        nazwa       miasto                     firma liczba_graczy  czas_gry  \\\n470  Room one  Escape City  Best Escape Room Company      2-5 osób  90 minut   \n\n      kategoria  poziom_trudnosci  liczba_ocen      miejsce_w_polsce  \\\n470  Przygodowy  śr. zaawansowani  Brak opinii  Polska: 461. miejsce   \n\n               wazne1_1  ... wazne3_12 wazne3_13 wazne3_14 wazne3_15  \\\n470  Przyjazny dzieciom  ...       NaN       NaN       NaN       NaN   \n\n    wazne3_16 wazne3_17 wazne3_18 wazne3_19  wazne3_20        oceny  \n470       NaN       NaN       NaN       NaN        NaN  Brak opinii  \n\n[1 rows x 70 columns]",
      "text/html": "<div>\n<style scoped>\n    .dataframe tbody tr th:only-of-type {\n        vertical-align: middle;\n    }\n\n    .dataframe tbody tr th {\n        vertical-align: top;\n    }\n\n    .dataframe thead th {\n        text-align: right;\n    }\n</style>\n<table border=\"1\" class=\"dataframe\">\n  <thead>\n    <tr style=\"text-align: right;\">\n      <th></th>\n      <th>nazwa</th>\n      <th>miasto</th>\n      <th>firma</th>\n      <th>liczba_graczy</th>\n      <th>czas_gry</th>\n      <th>kategoria</th>\n      <th>poziom_trudnosci</th>\n      <th>liczba_ocen</th>\n      <th>miejsce_w_polsce</th>\n      <th>wazne1_1</th>\n      <th>...</th>\n      <th>wazne3_12</th>\n      <th>wazne3_13</th>\n      <th>wazne3_14</th>\n      <th>wazne3_15</th>\n      <th>wazne3_16</th>\n      <th>wazne3_17</th>\n      <th>wazne3_18</th>\n      <th>wazne3_19</th>\n      <th>wazne3_20</th>\n      <th>oceny</th>\n    </tr>\n  </thead>\n  <tbody>\n    <tr>\n      <th>470</th>\n      <td>Room one</td>\n      <td>Escape City</td>\n      <td>Best Escape Room Company</td>\n      <td>2-5 osób</td>\n      <td>90 minut</td>\n      <td>Przygodowy</td>\n      <td>śr. zaawansowani</td>\n      <td>Brak opinii</td>\n      <td>Polska: 461. miejsce</td>\n      <td>Przyjazny dzieciom</td>\n      <td>...</td>\n      <td>NaN</td>\n      <td>NaN</td>\n      <td>NaN</td>\n      <td>NaN</td>\n      <td>NaN</td>\n      <td>NaN</td>\n      <td>NaN</td>\n      <td>NaN</td>\n      <td>NaN</td>\n      <td>Brak opinii</td>\n    </tr>\n  </tbody>\n</table>\n<p>1 rows × 70 columns</p>\n</div>"
     },
     "execution_count": 27,
     "metadata": {},
     "output_type": "execute_result"
    }
   ],
   "source": [
    "ic(data[data['miasto'] == 'Escape City'])\n",
    "# szablon profilu na stronie lockme też będzie do usunięcia"
   ],
   "metadata": {
    "collapsed": false,
    "pycharm": {
     "name": "#%%\n"
    }
   }
  },
  {
   "cell_type": "code",
   "execution_count": 31,
   "outputs": [
    {
     "data": {
      "text/plain": "                                    nazwa        miasto  \\\n0                               Cicha Noc       Gliwice   \n1                   Powstanie Warszawskie      Warszawa   \n2                             Lokalizacja       Gliwice   \n3                        Opuszczony Hotel       Wrocław   \n4                              Rastamobil       Wrocław   \n..                                    ...           ...   \n471  Star Warz. W poszukiwaniu Holokronu.  Skierniewice   \n472                       Łóżko szpitalne      Katowice   \n473                            Squad Game        Kraków   \n474            Sekrety rodziny Montgomery        Tarnów   \n475       Laboratorium szalonego naukowca        Tarnów   \n\n                     firma liczba_graczy   czas_gry    kategoria  \\\n0                 TickTack      2-5 osób   75 minut   Przygodowy   \n1    Black Cat Escape Room      2-8 osób   80 minut  Historyczny   \n2                 TickTack      2-5 osób   75 minut    Fabularny   \n3                Exit19.pl      2-5 osób  101 minut     Thriller   \n4     Escape Bus / Escapeo     2-4 osoby   90 minut   Przygodowy   \n..                     ...           ...        ...          ...   \n471      Gabinety Tajemnic      1-5 osób   60 minut      Fantasy   \n472      Mystery Machinery     2-4 osoby   45 minut    Fabularny   \n473       Gamescape Kraków     2-4 osoby   30 minut   Przygodowy   \n474            Trzy Klucze      2-5 osób   60 minut     Thriller   \n475            Trzy Klucze     2-3 osoby   60 minut    Fabularny   \n\n     poziom_trudnosci  liczba_ocen      miejsce_w_polsce  \\\n0    śr. zaawansowani    85 opinii    Polska: 1. miejsce   \n1    śr. zaawansowani   258 opinii    Polska: 2. miejsce   \n2        doświadczony   271 opinii    Polska: 3. miejsce   \n3    śr. zaawansowani    57 opinii    Polska: 4. miejsce   \n4    śr. zaawansowani    98 opinii    Polska: 5. miejsce   \n..                ...          ...                   ...   \n471      początkujący  Brak opinii  Polska: 461. miejsce   \n472      doświadczony     1 opinia  Polska: 434. miejsce   \n473      doświadczony  Brak opinii  Polska: 461. miejsce   \n474  śr. zaawansowani  Brak opinii  Polska: 461. miejsce   \n475  śr. zaawansowani  Brak opinii  Polska: 461. miejsce   \n\n                             wazne1_1  ... wazne3_12 wazne3_13 wazne3_14  \\\n0                  Przyjazny dzieciom  ...       NaN       NaN       NaN   \n1                  Przyjazny dzieciom  ...       NaN       NaN       NaN   \n2    Pokój eliminacyjny Poland Escape  ...       NaN       NaN       NaN   \n3                       Klimatyzowany  ...       NaN       NaN       NaN   \n4                       Klimatyzowany  ...       NaN       NaN       NaN   \n..                                ...  ...       ...       ...       ...   \n471         Możliwość płatności kartą  ...       NaN       NaN       NaN   \n472         Możliwość płatności kartą  ...       NaN       NaN       NaN   \n473                     Klimatyzowany  ...       NaN       NaN       NaN   \n474         Możliwość płatności kartą  ...       NaN       NaN       NaN   \n475         Możliwość płatności kartą  ...       NaN       NaN       NaN   \n\n    wazne3_15 wazne3_16 wazne3_17 wazne3_18 wazne3_19  wazne3_20  \\\n0         NaN       NaN       NaN       NaN       NaN        NaN   \n1         NaN       NaN       NaN       NaN       NaN        NaN   \n2         NaN       NaN       NaN       NaN       NaN        NaN   \n3         NaN       NaN       NaN       NaN       NaN        NaN   \n4         NaN       NaN       NaN       NaN       NaN        NaN   \n..        ...       ...       ...       ...       ...        ...   \n471       NaN       NaN       NaN       NaN       NaN        NaN   \n472       NaN       NaN       NaN       NaN       NaN        NaN   \n473       NaN       NaN       NaN       NaN       NaN        NaN   \n474       NaN       NaN       NaN       NaN       NaN        NaN   \n475       NaN       NaN       NaN       NaN       NaN        NaN   \n\n                                                 oceny  \n0    10\\r\\nObsługa:\\r\\n10/10\\r\\nKlimat:\\r\\n10/10\\r\\...  \n1    9 .8\\r\\nObsługa:\\r\\n9,8/10\\r\\nKlimat:\\r\\n10/10...  \n2    10\\r\\nObsługa:\\r\\n10/10\\r\\nKlimat:\\r\\n10/10\\r\\...  \n3    9 .9\\r\\nObsługa:\\r\\n9,9/10\\r\\nKlimat:\\r\\n10/10...  \n4    9 .9\\r\\nObsługa:\\r\\n10/10\\r\\nKlimat:\\r\\n10/10\\...  \n..                                                 ...  \n471                                        Brak opinii  \n472  9 .0\\r\\nObsługa:\\r\\n10/10\\r\\nKlimat:\\r\\n9/10\\r...  \n473                                        Brak opinii  \n474                                        Brak opinii  \n475                                        Brak opinii  \n\n[473 rows x 70 columns]",
      "text/html": "<div>\n<style scoped>\n    .dataframe tbody tr th:only-of-type {\n        vertical-align: middle;\n    }\n\n    .dataframe tbody tr th {\n        vertical-align: top;\n    }\n\n    .dataframe thead th {\n        text-align: right;\n    }\n</style>\n<table border=\"1\" class=\"dataframe\">\n  <thead>\n    <tr style=\"text-align: right;\">\n      <th></th>\n      <th>nazwa</th>\n      <th>miasto</th>\n      <th>firma</th>\n      <th>liczba_graczy</th>\n      <th>czas_gry</th>\n      <th>kategoria</th>\n      <th>poziom_trudnosci</th>\n      <th>liczba_ocen</th>\n      <th>miejsce_w_polsce</th>\n      <th>wazne1_1</th>\n      <th>...</th>\n      <th>wazne3_12</th>\n      <th>wazne3_13</th>\n      <th>wazne3_14</th>\n      <th>wazne3_15</th>\n      <th>wazne3_16</th>\n      <th>wazne3_17</th>\n      <th>wazne3_18</th>\n      <th>wazne3_19</th>\n      <th>wazne3_20</th>\n      <th>oceny</th>\n    </tr>\n  </thead>\n  <tbody>\n    <tr>\n      <th>0</th>\n      <td>Cicha Noc</td>\n      <td>Gliwice</td>\n      <td>TickTack</td>\n      <td>2-5 osób</td>\n      <td>75 minut</td>\n      <td>Przygodowy</td>\n      <td>śr. zaawansowani</td>\n      <td>85 opinii</td>\n      <td>Polska: 1. miejsce</td>\n      <td>Przyjazny dzieciom</td>\n      <td>...</td>\n      <td>NaN</td>\n      <td>NaN</td>\n      <td>NaN</td>\n      <td>NaN</td>\n      <td>NaN</td>\n      <td>NaN</td>\n      <td>NaN</td>\n      <td>NaN</td>\n      <td>NaN</td>\n      <td>10\\r\\nObsługa:\\r\\n10/10\\r\\nKlimat:\\r\\n10/10\\r\\...</td>\n    </tr>\n    <tr>\n      <th>1</th>\n      <td>Powstanie Warszawskie</td>\n      <td>Warszawa</td>\n      <td>Black Cat Escape Room</td>\n      <td>2-8 osób</td>\n      <td>80 minut</td>\n      <td>Historyczny</td>\n      <td>śr. zaawansowani</td>\n      <td>258 opinii</td>\n      <td>Polska: 2. miejsce</td>\n      <td>Przyjazny dzieciom</td>\n      <td>...</td>\n      <td>NaN</td>\n      <td>NaN</td>\n      <td>NaN</td>\n      <td>NaN</td>\n      <td>NaN</td>\n      <td>NaN</td>\n      <td>NaN</td>\n      <td>NaN</td>\n      <td>NaN</td>\n      <td>9 .8\\r\\nObsługa:\\r\\n9,8/10\\r\\nKlimat:\\r\\n10/10...</td>\n    </tr>\n    <tr>\n      <th>2</th>\n      <td>Lokalizacja</td>\n      <td>Gliwice</td>\n      <td>TickTack</td>\n      <td>2-5 osób</td>\n      <td>75 minut</td>\n      <td>Fabularny</td>\n      <td>doświadczony</td>\n      <td>271 opinii</td>\n      <td>Polska: 3. miejsce</td>\n      <td>Pokój eliminacyjny Poland Escape</td>\n      <td>...</td>\n      <td>NaN</td>\n      <td>NaN</td>\n      <td>NaN</td>\n      <td>NaN</td>\n      <td>NaN</td>\n      <td>NaN</td>\n      <td>NaN</td>\n      <td>NaN</td>\n      <td>NaN</td>\n      <td>10\\r\\nObsługa:\\r\\n10/10\\r\\nKlimat:\\r\\n10/10\\r\\...</td>\n    </tr>\n    <tr>\n      <th>3</th>\n      <td>Opuszczony Hotel</td>\n      <td>Wrocław</td>\n      <td>Exit19.pl</td>\n      <td>2-5 osób</td>\n      <td>101 minut</td>\n      <td>Thriller</td>\n      <td>śr. zaawansowani</td>\n      <td>57 opinii</td>\n      <td>Polska: 4. miejsce</td>\n      <td>Klimatyzowany</td>\n      <td>...</td>\n      <td>NaN</td>\n      <td>NaN</td>\n      <td>NaN</td>\n      <td>NaN</td>\n      <td>NaN</td>\n      <td>NaN</td>\n      <td>NaN</td>\n      <td>NaN</td>\n      <td>NaN</td>\n      <td>9 .9\\r\\nObsługa:\\r\\n9,9/10\\r\\nKlimat:\\r\\n10/10...</td>\n    </tr>\n    <tr>\n      <th>4</th>\n      <td>Rastamobil</td>\n      <td>Wrocław</td>\n      <td>Escape Bus / Escapeo</td>\n      <td>2-4 osoby</td>\n      <td>90 minut</td>\n      <td>Przygodowy</td>\n      <td>śr. zaawansowani</td>\n      <td>98 opinii</td>\n      <td>Polska: 5. miejsce</td>\n      <td>Klimatyzowany</td>\n      <td>...</td>\n      <td>NaN</td>\n      <td>NaN</td>\n      <td>NaN</td>\n      <td>NaN</td>\n      <td>NaN</td>\n      <td>NaN</td>\n      <td>NaN</td>\n      <td>NaN</td>\n      <td>NaN</td>\n      <td>9 .9\\r\\nObsługa:\\r\\n10/10\\r\\nKlimat:\\r\\n10/10\\...</td>\n    </tr>\n    <tr>\n      <th>...</th>\n      <td>...</td>\n      <td>...</td>\n      <td>...</td>\n      <td>...</td>\n      <td>...</td>\n      <td>...</td>\n      <td>...</td>\n      <td>...</td>\n      <td>...</td>\n      <td>...</td>\n      <td>...</td>\n      <td>...</td>\n      <td>...</td>\n      <td>...</td>\n      <td>...</td>\n      <td>...</td>\n      <td>...</td>\n      <td>...</td>\n      <td>...</td>\n      <td>...</td>\n      <td>...</td>\n    </tr>\n    <tr>\n      <th>471</th>\n      <td>Star Warz. W poszukiwaniu Holokronu.</td>\n      <td>Skierniewice</td>\n      <td>Gabinety Tajemnic</td>\n      <td>1-5 osób</td>\n      <td>60 minut</td>\n      <td>Fantasy</td>\n      <td>początkujący</td>\n      <td>Brak opinii</td>\n      <td>Polska: 461. miejsce</td>\n      <td>Możliwość płatności kartą</td>\n      <td>...</td>\n      <td>NaN</td>\n      <td>NaN</td>\n      <td>NaN</td>\n      <td>NaN</td>\n      <td>NaN</td>\n      <td>NaN</td>\n      <td>NaN</td>\n      <td>NaN</td>\n      <td>NaN</td>\n      <td>Brak opinii</td>\n    </tr>\n    <tr>\n      <th>472</th>\n      <td>Łóżko szpitalne</td>\n      <td>Katowice</td>\n      <td>Mystery Machinery</td>\n      <td>2-4 osoby</td>\n      <td>45 minut</td>\n      <td>Fabularny</td>\n      <td>doświadczony</td>\n      <td>1 opinia</td>\n      <td>Polska: 434. miejsce</td>\n      <td>Możliwość płatności kartą</td>\n      <td>...</td>\n      <td>NaN</td>\n      <td>NaN</td>\n      <td>NaN</td>\n      <td>NaN</td>\n      <td>NaN</td>\n      <td>NaN</td>\n      <td>NaN</td>\n      <td>NaN</td>\n      <td>NaN</td>\n      <td>9 .0\\r\\nObsługa:\\r\\n10/10\\r\\nKlimat:\\r\\n9/10\\r...</td>\n    </tr>\n    <tr>\n      <th>473</th>\n      <td>Squad Game</td>\n      <td>Kraków</td>\n      <td>Gamescape Kraków</td>\n      <td>2-4 osoby</td>\n      <td>30 minut</td>\n      <td>Przygodowy</td>\n      <td>doświadczony</td>\n      <td>Brak opinii</td>\n      <td>Polska: 461. miejsce</td>\n      <td>Klimatyzowany</td>\n      <td>...</td>\n      <td>NaN</td>\n      <td>NaN</td>\n      <td>NaN</td>\n      <td>NaN</td>\n      <td>NaN</td>\n      <td>NaN</td>\n      <td>NaN</td>\n      <td>NaN</td>\n      <td>NaN</td>\n      <td>Brak opinii</td>\n    </tr>\n    <tr>\n      <th>474</th>\n      <td>Sekrety rodziny Montgomery</td>\n      <td>Tarnów</td>\n      <td>Trzy Klucze</td>\n      <td>2-5 osób</td>\n      <td>60 minut</td>\n      <td>Thriller</td>\n      <td>śr. zaawansowani</td>\n      <td>Brak opinii</td>\n      <td>Polska: 461. miejsce</td>\n      <td>Możliwość płatności kartą</td>\n      <td>...</td>\n      <td>NaN</td>\n      <td>NaN</td>\n      <td>NaN</td>\n      <td>NaN</td>\n      <td>NaN</td>\n      <td>NaN</td>\n      <td>NaN</td>\n      <td>NaN</td>\n      <td>NaN</td>\n      <td>Brak opinii</td>\n    </tr>\n    <tr>\n      <th>475</th>\n      <td>Laboratorium szalonego naukowca</td>\n      <td>Tarnów</td>\n      <td>Trzy Klucze</td>\n      <td>2-3 osoby</td>\n      <td>60 minut</td>\n      <td>Fabularny</td>\n      <td>śr. zaawansowani</td>\n      <td>Brak opinii</td>\n      <td>Polska: 461. miejsce</td>\n      <td>Możliwość płatności kartą</td>\n      <td>...</td>\n      <td>NaN</td>\n      <td>NaN</td>\n      <td>NaN</td>\n      <td>NaN</td>\n      <td>NaN</td>\n      <td>NaN</td>\n      <td>NaN</td>\n      <td>NaN</td>\n      <td>NaN</td>\n      <td>Brak opinii</td>\n    </tr>\n  </tbody>\n</table>\n<p>473 rows × 70 columns</p>\n</div>"
     },
     "execution_count": 31,
     "metadata": {},
     "output_type": "execute_result"
    }
   ],
   "source": [
    "data = \\\n",
    "    data[(data['kategoria'].isna() == False) & \\\n",
    "         (data['miejsce_w_polsce'].isna() == False) & \\\n",
    "         (data['miasto'] != 'Escape City')]\n",
    "data"
   ],
   "metadata": {
    "collapsed": false,
    "pycharm": {
     "name": "#%%\n"
    }
   }
  },
  {
   "cell_type": "code",
   "execution_count": 32,
   "outputs": [],
   "source": [
    "data.to_csv('clean_data01.csv')"
   ],
   "metadata": {
    "collapsed": false,
    "pycharm": {
     "name": "#%%\n"
    }
   }
  }
 ],
 "metadata": {
  "kernelspec": {
   "display_name": "Python 3",
   "language": "python",
   "name": "python3"
  },
  "language_info": {
   "codemirror_mode": {
    "name": "ipython",
    "version": 2
   },
   "file_extension": ".py",
   "mimetype": "text/x-python",
   "name": "python",
   "nbconvert_exporter": "python",
   "pygments_lexer": "ipython2",
   "version": "2.7.6"
  }
 },
 "nbformat": 4,
 "nbformat_minor": 0
}