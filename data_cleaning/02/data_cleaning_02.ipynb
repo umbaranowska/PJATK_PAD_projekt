{
 "cells": [
  {
   "cell_type": "code",
   "execution_count": 1,
   "metadata": {
    "collapsed": true
   },
   "outputs": [
    {
     "data": {
      "text/plain": "                   nazwa    miasto                  firma liczba_graczy  \\\n0              Cicha Noc   Gliwice               TickTack      2-5 osób   \n1  Powstanie Warszawskie  Warszawa  Black Cat Escape Room      2-8 osób   \n2            Lokalizacja   Gliwice               TickTack      2-5 osób   \n3       Opuszczony Hotel   Wrocław              Exit19.pl      2-5 osób   \n4             Rastamobil   Wrocław   Escape Bus / Escapeo     2-4 osoby   \n\n    czas_gry    kategoria  poziom_trudnosci liczba_ocen    miejsce_w_polsce  \\\n0   75 minut   Przygodowy  śr. zaawansowani   85 opinii  Polska: 1. miejsce   \n1   80 minut  Historyczny  śr. zaawansowani  258 opinii  Polska: 2. miejsce   \n2   75 minut    Fabularny      doświadczony  271 opinii  Polska: 3. miejsce   \n3  101 minut     Thriller  śr. zaawansowani   57 opinii  Polska: 4. miejsce   \n4   90 minut   Przygodowy  śr. zaawansowani   98 opinii  Polska: 5. miejsce   \n\n                           wazne1_1  ... wazne3_12 wazne3_13 wazne3_14  \\\n0                Przyjazny dzieciom  ...       NaN       NaN       NaN   \n1                Przyjazny dzieciom  ...       NaN       NaN       NaN   \n2  Pokój eliminacyjny Poland Escape  ...       NaN       NaN       NaN   \n3                     Klimatyzowany  ...       NaN       NaN       NaN   \n4                     Klimatyzowany  ...       NaN       NaN       NaN   \n\n  wazne3_15 wazne3_16 wazne3_17 wazne3_18 wazne3_19  wazne3_20  \\\n0       NaN       NaN       NaN       NaN       NaN        NaN   \n1       NaN       NaN       NaN       NaN       NaN        NaN   \n2       NaN       NaN       NaN       NaN       NaN        NaN   \n3       NaN       NaN       NaN       NaN       NaN        NaN   \n4       NaN       NaN       NaN       NaN       NaN        NaN   \n\n                                               oceny  \n0  10\\r\\nObsługa:\\r\\n10/10\\r\\nKlimat:\\r\\n10/10\\r\\...  \n1  9 .8\\r\\nObsługa:\\r\\n9,8/10\\r\\nKlimat:\\r\\n10/10...  \n2  10\\r\\nObsługa:\\r\\n10/10\\r\\nKlimat:\\r\\n10/10\\r\\...  \n3  9 .9\\r\\nObsługa:\\r\\n9,9/10\\r\\nKlimat:\\r\\n10/10...  \n4  9 .9\\r\\nObsługa:\\r\\n10/10\\r\\nKlimat:\\r\\n10/10\\...  \n\n[5 rows x 70 columns]",
      "text/html": "<div>\n<style scoped>\n    .dataframe tbody tr th:only-of-type {\n        vertical-align: middle;\n    }\n\n    .dataframe tbody tr th {\n        vertical-align: top;\n    }\n\n    .dataframe thead th {\n        text-align: right;\n    }\n</style>\n<table border=\"1\" class=\"dataframe\">\n  <thead>\n    <tr style=\"text-align: right;\">\n      <th></th>\n      <th>nazwa</th>\n      <th>miasto</th>\n      <th>firma</th>\n      <th>liczba_graczy</th>\n      <th>czas_gry</th>\n      <th>kategoria</th>\n      <th>poziom_trudnosci</th>\n      <th>liczba_ocen</th>\n      <th>miejsce_w_polsce</th>\n      <th>wazne1_1</th>\n      <th>...</th>\n      <th>wazne3_12</th>\n      <th>wazne3_13</th>\n      <th>wazne3_14</th>\n      <th>wazne3_15</th>\n      <th>wazne3_16</th>\n      <th>wazne3_17</th>\n      <th>wazne3_18</th>\n      <th>wazne3_19</th>\n      <th>wazne3_20</th>\n      <th>oceny</th>\n    </tr>\n  </thead>\n  <tbody>\n    <tr>\n      <th>0</th>\n      <td>Cicha Noc</td>\n      <td>Gliwice</td>\n      <td>TickTack</td>\n      <td>2-5 osób</td>\n      <td>75 minut</td>\n      <td>Przygodowy</td>\n      <td>śr. zaawansowani</td>\n      <td>85 opinii</td>\n      <td>Polska: 1. miejsce</td>\n      <td>Przyjazny dzieciom</td>\n      <td>...</td>\n      <td>NaN</td>\n      <td>NaN</td>\n      <td>NaN</td>\n      <td>NaN</td>\n      <td>NaN</td>\n      <td>NaN</td>\n      <td>NaN</td>\n      <td>NaN</td>\n      <td>NaN</td>\n      <td>10\\r\\nObsługa:\\r\\n10/10\\r\\nKlimat:\\r\\n10/10\\r\\...</td>\n    </tr>\n    <tr>\n      <th>1</th>\n      <td>Powstanie Warszawskie</td>\n      <td>Warszawa</td>\n      <td>Black Cat Escape Room</td>\n      <td>2-8 osób</td>\n      <td>80 minut</td>\n      <td>Historyczny</td>\n      <td>śr. zaawansowani</td>\n      <td>258 opinii</td>\n      <td>Polska: 2. miejsce</td>\n      <td>Przyjazny dzieciom</td>\n      <td>...</td>\n      <td>NaN</td>\n      <td>NaN</td>\n      <td>NaN</td>\n      <td>NaN</td>\n      <td>NaN</td>\n      <td>NaN</td>\n      <td>NaN</td>\n      <td>NaN</td>\n      <td>NaN</td>\n      <td>9 .8\\r\\nObsługa:\\r\\n9,8/10\\r\\nKlimat:\\r\\n10/10...</td>\n    </tr>\n    <tr>\n      <th>2</th>\n      <td>Lokalizacja</td>\n      <td>Gliwice</td>\n      <td>TickTack</td>\n      <td>2-5 osób</td>\n      <td>75 minut</td>\n      <td>Fabularny</td>\n      <td>doświadczony</td>\n      <td>271 opinii</td>\n      <td>Polska: 3. miejsce</td>\n      <td>Pokój eliminacyjny Poland Escape</td>\n      <td>...</td>\n      <td>NaN</td>\n      <td>NaN</td>\n      <td>NaN</td>\n      <td>NaN</td>\n      <td>NaN</td>\n      <td>NaN</td>\n      <td>NaN</td>\n      <td>NaN</td>\n      <td>NaN</td>\n      <td>10\\r\\nObsługa:\\r\\n10/10\\r\\nKlimat:\\r\\n10/10\\r\\...</td>\n    </tr>\n    <tr>\n      <th>3</th>\n      <td>Opuszczony Hotel</td>\n      <td>Wrocław</td>\n      <td>Exit19.pl</td>\n      <td>2-5 osób</td>\n      <td>101 minut</td>\n      <td>Thriller</td>\n      <td>śr. zaawansowani</td>\n      <td>57 opinii</td>\n      <td>Polska: 4. miejsce</td>\n      <td>Klimatyzowany</td>\n      <td>...</td>\n      <td>NaN</td>\n      <td>NaN</td>\n      <td>NaN</td>\n      <td>NaN</td>\n      <td>NaN</td>\n      <td>NaN</td>\n      <td>NaN</td>\n      <td>NaN</td>\n      <td>NaN</td>\n      <td>9 .9\\r\\nObsługa:\\r\\n9,9/10\\r\\nKlimat:\\r\\n10/10...</td>\n    </tr>\n    <tr>\n      <th>4</th>\n      <td>Rastamobil</td>\n      <td>Wrocław</td>\n      <td>Escape Bus / Escapeo</td>\n      <td>2-4 osoby</td>\n      <td>90 minut</td>\n      <td>Przygodowy</td>\n      <td>śr. zaawansowani</td>\n      <td>98 opinii</td>\n      <td>Polska: 5. miejsce</td>\n      <td>Klimatyzowany</td>\n      <td>...</td>\n      <td>NaN</td>\n      <td>NaN</td>\n      <td>NaN</td>\n      <td>NaN</td>\n      <td>NaN</td>\n      <td>NaN</td>\n      <td>NaN</td>\n      <td>NaN</td>\n      <td>NaN</td>\n      <td>9 .9\\r\\nObsługa:\\r\\n10/10\\r\\nKlimat:\\r\\n10/10\\...</td>\n    </tr>\n  </tbody>\n</table>\n<p>5 rows × 70 columns</p>\n</div>"
     },
     "execution_count": 1,
     "metadata": {},
     "output_type": "execute_result"
    }
   ],
   "source": [
    "import pandas as pd\n",
    "data = pd.read_csv('../01/clean_data01.csv', index_col='Unnamed: 0') # zachowany index z surowych danych\n",
    "data.head(5)"
   ]
  },
  {
   "cell_type": "code",
   "execution_count": 2,
   "outputs": [
    {
     "name": "stdout",
     "output_type": "stream",
     "text": [
      "185\n",
      "35\n",
      "['rosyjski', 'Tylko niskie napięcie w zasięgu gracza', 'Dezynfekowane pokoje', 'Klimatyzowany', 'Możesz kupić tutaj Escape Tales', 'Półmrok w pokoju', 'Nie dla epileptyków', 'Bardzo wąskie przejścia', 'Dezynfekcja lampami UVC', 'Gra bez aktora', 'Ograniczony kontakt z innymi grupami', 'Oświetlenie awaryjne', 'Przyjazny zwierzętom', 'Dostępny żel antybakteryjny', 'Pokój eliminacyjny Poland Escape', 'Prawdziwy mistrz gry', 'Przycisk bezpieczeństwa', 'słowacki', 'czeski', 'Nie dla osób z chorobami serca', 'Nieodpowiednie dla osób z klaustrofobią', 'Od 18 lat', 'Drzwi zawsze otwarte', 'Pełen monitoring', 'Pełen kontakt z mistrzem gry', 'Klucz bezpieczeństwa', 'System awaryjnego otwierania drzwi', 'angielski', 'Przyjazny niepełnosprawnym', 'Możliwość płatności kartą', 'Dostępne rekawiczki', 'Nie dla kobiet w ciąży', 'polski', 'Przyjazny dzieciom', 'Od 16 lat']\n"
     ]
    }
   ],
   "source": [
    "# szuka unikalnych wartości kolumn z sekcji ważne informacje\n",
    "nazwy_kolumn = [c for c in data.columns if 'wazne' in c]\n",
    "lista_wartosci = []\n",
    "lista_wartosci = []\n",
    "for k in nazwy_kolumn:\n",
    "    lista_wartosci = lista_wartosci + list(data[k].dropna().unique())\n",
    "print(len(lista_wartosci))\n",
    "lista_wartosci = list(set(lista_wartosci))\n",
    "print(len(lista_wartosci))\n",
    "print(lista_wartosci)"
   ],
   "metadata": {
    "collapsed": false,
    "pycharm": {
     "name": "#%%\n"
    }
   }
  },
  {
   "cell_type": "code",
   "execution_count": 3,
   "outputs": [],
   "source": [
    "prefiksy = {\n",
    "    'podstawowe' : ['Od 16 lat', 'Nie dla osób z chorobami serca', 'Przyjazny dzieciom', 'Nieodpowiednie dla osób z klaustrofobią', 'Możesz kupić tutaj Escape Tales', 'Bardzo wąskie przejścia', 'Przyjazny zwierzętom', 'Nie dla kobiet w ciąży', 'Gra bez aktora', 'Przyjazny niepełnosprawnym', 'Klimatyzowany', 'Nie dla epileptyków', 'Możliwość płatności kartą', 'Półmrok w pokoju', 'Od 18 lat', 'Pokój eliminacyjny Poland Escape'],\n",
    "    'bezpieczeństwo' : ['Klucz bezpieczeństwa', 'Przycisk bezpieczeństwa', 'Dezynfekcja lampami UVC', 'Dezynfekowane pokoje', 'Tylko niskie napięcie w zasięgu gracza', 'Drzwi zawsze otwarte', 'Pełen kontakt z mistrzem gry', 'Dostępny żel antybakteryjny', 'System awaryjnego otwierania drzwi', 'Dostępne rekawiczki', 'Oświetlenie awaryjne', 'Ograniczony kontakt z innymi grupami', 'Pełen monitoring'],\n",
    "    'języki' : ['rosyjski', 'angielski', 'polski', 'czeski', 'polski', 'słowacki'],\n",
    "    'inne' : ['Prawdziwy mistrz gry']\n",
    "}"
   ],
   "metadata": {
    "collapsed": false,
    "pycharm": {
     "name": "#%%\n"
    }
   }
  },
  {
   "cell_type": "code",
   "execution_count": 4,
   "outputs": [
    {
     "data": {
      "text/plain": "{'rosyjski': 'języki_rosyjski',\n 'Tylko niskie napięcie w zasięgu gracza': 'bezpieczeństwo_tylko_niskie_napięcie_w_zasięgu_gracza',\n 'Dezynfekowane pokoje': 'bezpieczeństwo_dezynfekowane_pokoje',\n 'Klimatyzowany': 'podstawowe_klimatyzowany',\n 'Możesz kupić tutaj Escape Tales': 'podstawowe_możesz_kupić_tutaj_escape_tales',\n 'Półmrok w pokoju': 'podstawowe_półmrok_w_pokoju',\n 'Nie dla epileptyków': 'podstawowe_nie_dla_epileptyków',\n 'Bardzo wąskie przejścia': 'podstawowe_bardzo_wąskie_przejścia',\n 'Dezynfekcja lampami UVC': 'bezpieczeństwo_dezynfekcja_lampami_uvc',\n 'Gra bez aktora': 'podstawowe_gra_bez_aktora',\n 'Ograniczony kontakt z innymi grupami': 'bezpieczeństwo_ograniczony_kontakt_z_innymi_grupami',\n 'Oświetlenie awaryjne': 'bezpieczeństwo_oświetlenie_awaryjne',\n 'Przyjazny zwierzętom': 'podstawowe_przyjazny_zwierzętom',\n 'Dostępny żel antybakteryjny': 'bezpieczeństwo_dostępny_żel_antybakteryjny',\n 'Pokój eliminacyjny Poland Escape': 'podstawowe_pokój_eliminacyjny_poland_escape',\n 'Prawdziwy mistrz gry': 'inne_prawdziwy_mistrz_gry',\n 'Przycisk bezpieczeństwa': 'bezpieczeństwo_przycisk_bezpieczeństwa',\n 'słowacki': 'języki_słowacki',\n 'czeski': 'języki_czeski',\n 'Nie dla osób z chorobami serca': 'podstawowe_nie_dla_osób_z_chorobami_serca',\n 'Nieodpowiednie dla osób z klaustrofobią': 'podstawowe_nieodpowiednie_dla_osób_z_klaustrofobią',\n 'Od 18 lat': 'podstawowe_od_18_lat',\n 'Drzwi zawsze otwarte': 'bezpieczeństwo_drzwi_zawsze_otwarte',\n 'Pełen monitoring': 'bezpieczeństwo_pełen_monitoring',\n 'Pełen kontakt z mistrzem gry': 'bezpieczeństwo_pełen_kontakt_z_mistrzem_gry',\n 'Klucz bezpieczeństwa': 'bezpieczeństwo_klucz_bezpieczeństwa',\n 'System awaryjnego otwierania drzwi': 'bezpieczeństwo_system_awaryjnego_otwierania_drzwi',\n 'angielski': 'języki_angielski',\n 'Przyjazny niepełnosprawnym': 'podstawowe_przyjazny_niepełnosprawnym',\n 'Możliwość płatności kartą': 'podstawowe_możliwość_płatności_kartą',\n 'Dostępne rekawiczki': 'bezpieczeństwo_dostępne_rekawiczki',\n 'Nie dla kobiet w ciąży': 'podstawowe_nie_dla_kobiet_w_ciąży',\n 'polski': 'języki_polski',\n 'Przyjazny dzieciom': 'podstawowe_przyjazny_dzieciom',\n 'Od 16 lat': 'podstawowe_od_16_lat'}"
     },
     "execution_count": 4,
     "metadata": {},
     "output_type": "execute_result"
    }
   ],
   "source": [
    "nowe_nazwy_kolumn = []\n",
    "for x in lista_wartosci:\n",
    "    if x in prefiksy['podstawowe']:\n",
    "        nowe_nazwy_kolumn.append('podstawowe_' + x.lower().replace(' ', '_'))\n",
    "    elif x in prefiksy['bezpieczeństwo']:\n",
    "        nowe_nazwy_kolumn.append('bezpieczeństwo_' + x.lower().replace(' ', '_'))\n",
    "    elif x in prefiksy['języki']:\n",
    "        nowe_nazwy_kolumn.append('języki_' + x.lower().replace(' ', '_'))\n",
    "    elif x in prefiksy['inne']:\n",
    "        nowe_nazwy_kolumn.append('inne_' + x.lower().replace(' ', '_'))\n",
    "    else:\n",
    "        nowe_nazwy_kolumn.append(x)\n",
    "slownik_wartosci = dict(zip(lista_wartosci, nowe_nazwy_kolumn))\n",
    "slownik_wartosci"
   ],
   "metadata": {
    "collapsed": false,
    "pycharm": {
     "name": "#%%\n"
    }
   }
  },
  {
   "cell_type": "code",
   "execution_count": 5,
   "outputs": [
    {
     "data": {
      "text/plain": "                                    nazwa        miasto  \\\n0                               Cicha Noc       Gliwice   \n1                   Powstanie Warszawskie      Warszawa   \n2                             Lokalizacja       Gliwice   \n3                        Opuszczony Hotel       Wrocław   \n4                              Rastamobil       Wrocław   \n..                                    ...           ...   \n471  Star Warz. W poszukiwaniu Holokronu.  Skierniewice   \n472                       Łóżko szpitalne      Katowice   \n473                            Squad Game        Kraków   \n474            Sekrety rodziny Montgomery        Tarnów   \n475       Laboratorium szalonego naukowca        Tarnów   \n\n                     firma liczba_graczy   czas_gry    kategoria  \\\n0                 TickTack      2-5 osób   75 minut   Przygodowy   \n1    Black Cat Escape Room      2-8 osób   80 minut  Historyczny   \n2                 TickTack      2-5 osób   75 minut    Fabularny   \n3                Exit19.pl      2-5 osób  101 minut     Thriller   \n4     Escape Bus / Escapeo     2-4 osoby   90 minut   Przygodowy   \n..                     ...           ...        ...          ...   \n471      Gabinety Tajemnic      1-5 osób   60 minut      Fantasy   \n472      Mystery Machinery     2-4 osoby   45 minut    Fabularny   \n473       Gamescape Kraków     2-4 osoby   30 minut   Przygodowy   \n474            Trzy Klucze      2-5 osób   60 minut     Thriller   \n475            Trzy Klucze     2-3 osoby   60 minut    Fabularny   \n\n     poziom_trudnosci  liczba_ocen      miejsce_w_polsce  \\\n0    śr. zaawansowani    85 opinii    Polska: 1. miejsce   \n1    śr. zaawansowani   258 opinii    Polska: 2. miejsce   \n2        doświadczony   271 opinii    Polska: 3. miejsce   \n3    śr. zaawansowani    57 opinii    Polska: 4. miejsce   \n4    śr. zaawansowani    98 opinii    Polska: 5. miejsce   \n..                ...          ...                   ...   \n471      początkujący  Brak opinii  Polska: 461. miejsce   \n472      doświadczony     1 opinia  Polska: 434. miejsce   \n473      doświadczony  Brak opinii  Polska: 461. miejsce   \n474  śr. zaawansowani  Brak opinii  Polska: 461. miejsce   \n475  śr. zaawansowani  Brak opinii  Polska: 461. miejsce   \n\n                                                 oceny  ...  \\\n0    10\\r\\nObsługa:\\r\\n10/10\\r\\nKlimat:\\r\\n10/10\\r\\...  ...   \n1    9 .8\\r\\nObsługa:\\r\\n9,8/10\\r\\nKlimat:\\r\\n10/10...  ...   \n2    10\\r\\nObsługa:\\r\\n10/10\\r\\nKlimat:\\r\\n10/10\\r\\...  ...   \n3    9 .9\\r\\nObsługa:\\r\\n9,9/10\\r\\nKlimat:\\r\\n10/10...  ...   \n4    9 .9\\r\\nObsługa:\\r\\n10/10\\r\\nKlimat:\\r\\n10/10\\...  ...   \n..                                                 ...  ...   \n471                                        Brak opinii  ...   \n472  9 .0\\r\\nObsługa:\\r\\n10/10\\r\\nKlimat:\\r\\n9/10\\r...  ...   \n473                                        Brak opinii  ...   \n474                                        Brak opinii  ...   \n475                                        Brak opinii  ...   \n\n     bezpieczeństwo_klucz_bezpieczeństwa  \\\n0                                      0   \n1                                      0   \n2                                      0   \n3                                      0   \n4                                      0   \n..                                   ...   \n471                                    0   \n472                                    0   \n473                                    0   \n474                                    0   \n475                                    0   \n\n     bezpieczeństwo_system_awaryjnego_otwierania_drzwi  języki_angielski  \\\n0                                                    1                 0   \n1                                                    1                 1   \n2                                                    1                 0   \n3                                                    1                 1   \n4                                                    1                 0   \n..                                                 ...               ...   \n471                                                  0                 0   \n472                                                  0                 0   \n473                                                  0                 0   \n474                                                  0                 0   \n475                                                  0                 0   \n\n     podstawowe_przyjazny_niepełnosprawnym  \\\n0                                        0   \n1                                        0   \n2                                        0   \n3                                        0   \n4                                        0   \n..                                     ...   \n471                                      0   \n472                                      0   \n473                                      0   \n474                                      0   \n475                                      0   \n\n     podstawowe_możliwość_płatności_kartą  bezpieczeństwo_dostępne_rekawiczki  \\\n0                                       1                                   0   \n1                                       0                                   1   \n2                                       0                                   0   \n3                                       1                                   0   \n4                                       0                                   0   \n..                                    ...                                 ...   \n471                                     1                                   1   \n472                                     1                                   0   \n473                                     1                                   0   \n474                                     1                                   0   \n475                                     1                                   0   \n\n     podstawowe_nie_dla_kobiet_w_ciąży  języki_polski  \\\n0                                    1              1   \n1                                    1              1   \n2                                    1              1   \n3                                    1              1   \n4                                    0              1   \n..                                 ...            ...   \n471                                  0              1   \n472                                  0              1   \n473                                  0              1   \n474                                  0              1   \n475                                  0              1   \n\n     podstawowe_przyjazny_dzieciom  podstawowe_od_16_lat  \n0                                1                     0  \n1                                1                     0  \n2                                0                     1  \n3                                0                     1  \n4                                0                     0  \n..                             ...                   ...  \n471                              0                     0  \n472                              0                     1  \n473                              0                     0  \n474                              0                     0  \n475                              0                     0  \n\n[473 rows x 45 columns]",
      "text/html": "<div>\n<style scoped>\n    .dataframe tbody tr th:only-of-type {\n        vertical-align: middle;\n    }\n\n    .dataframe tbody tr th {\n        vertical-align: top;\n    }\n\n    .dataframe thead th {\n        text-align: right;\n    }\n</style>\n<table border=\"1\" class=\"dataframe\">\n  <thead>\n    <tr style=\"text-align: right;\">\n      <th></th>\n      <th>nazwa</th>\n      <th>miasto</th>\n      <th>firma</th>\n      <th>liczba_graczy</th>\n      <th>czas_gry</th>\n      <th>kategoria</th>\n      <th>poziom_trudnosci</th>\n      <th>liczba_ocen</th>\n      <th>miejsce_w_polsce</th>\n      <th>oceny</th>\n      <th>...</th>\n      <th>bezpieczeństwo_klucz_bezpieczeństwa</th>\n      <th>bezpieczeństwo_system_awaryjnego_otwierania_drzwi</th>\n      <th>języki_angielski</th>\n      <th>podstawowe_przyjazny_niepełnosprawnym</th>\n      <th>podstawowe_możliwość_płatności_kartą</th>\n      <th>bezpieczeństwo_dostępne_rekawiczki</th>\n      <th>podstawowe_nie_dla_kobiet_w_ciąży</th>\n      <th>języki_polski</th>\n      <th>podstawowe_przyjazny_dzieciom</th>\n      <th>podstawowe_od_16_lat</th>\n    </tr>\n  </thead>\n  <tbody>\n    <tr>\n      <th>0</th>\n      <td>Cicha Noc</td>\n      <td>Gliwice</td>\n      <td>TickTack</td>\n      <td>2-5 osób</td>\n      <td>75 minut</td>\n      <td>Przygodowy</td>\n      <td>śr. zaawansowani</td>\n      <td>85 opinii</td>\n      <td>Polska: 1. miejsce</td>\n      <td>10\\r\\nObsługa:\\r\\n10/10\\r\\nKlimat:\\r\\n10/10\\r\\...</td>\n      <td>...</td>\n      <td>0</td>\n      <td>1</td>\n      <td>0</td>\n      <td>0</td>\n      <td>1</td>\n      <td>0</td>\n      <td>1</td>\n      <td>1</td>\n      <td>1</td>\n      <td>0</td>\n    </tr>\n    <tr>\n      <th>1</th>\n      <td>Powstanie Warszawskie</td>\n      <td>Warszawa</td>\n      <td>Black Cat Escape Room</td>\n      <td>2-8 osób</td>\n      <td>80 minut</td>\n      <td>Historyczny</td>\n      <td>śr. zaawansowani</td>\n      <td>258 opinii</td>\n      <td>Polska: 2. miejsce</td>\n      <td>9 .8\\r\\nObsługa:\\r\\n9,8/10\\r\\nKlimat:\\r\\n10/10...</td>\n      <td>...</td>\n      <td>0</td>\n      <td>1</td>\n      <td>1</td>\n      <td>0</td>\n      <td>0</td>\n      <td>1</td>\n      <td>1</td>\n      <td>1</td>\n      <td>1</td>\n      <td>0</td>\n    </tr>\n    <tr>\n      <th>2</th>\n      <td>Lokalizacja</td>\n      <td>Gliwice</td>\n      <td>TickTack</td>\n      <td>2-5 osób</td>\n      <td>75 minut</td>\n      <td>Fabularny</td>\n      <td>doświadczony</td>\n      <td>271 opinii</td>\n      <td>Polska: 3. miejsce</td>\n      <td>10\\r\\nObsługa:\\r\\n10/10\\r\\nKlimat:\\r\\n10/10\\r\\...</td>\n      <td>...</td>\n      <td>0</td>\n      <td>1</td>\n      <td>0</td>\n      <td>0</td>\n      <td>0</td>\n      <td>0</td>\n      <td>1</td>\n      <td>1</td>\n      <td>0</td>\n      <td>1</td>\n    </tr>\n    <tr>\n      <th>3</th>\n      <td>Opuszczony Hotel</td>\n      <td>Wrocław</td>\n      <td>Exit19.pl</td>\n      <td>2-5 osób</td>\n      <td>101 minut</td>\n      <td>Thriller</td>\n      <td>śr. zaawansowani</td>\n      <td>57 opinii</td>\n      <td>Polska: 4. miejsce</td>\n      <td>9 .9\\r\\nObsługa:\\r\\n9,9/10\\r\\nKlimat:\\r\\n10/10...</td>\n      <td>...</td>\n      <td>0</td>\n      <td>1</td>\n      <td>1</td>\n      <td>0</td>\n      <td>1</td>\n      <td>0</td>\n      <td>1</td>\n      <td>1</td>\n      <td>0</td>\n      <td>1</td>\n    </tr>\n    <tr>\n      <th>4</th>\n      <td>Rastamobil</td>\n      <td>Wrocław</td>\n      <td>Escape Bus / Escapeo</td>\n      <td>2-4 osoby</td>\n      <td>90 minut</td>\n      <td>Przygodowy</td>\n      <td>śr. zaawansowani</td>\n      <td>98 opinii</td>\n      <td>Polska: 5. miejsce</td>\n      <td>9 .9\\r\\nObsługa:\\r\\n10/10\\r\\nKlimat:\\r\\n10/10\\...</td>\n      <td>...</td>\n      <td>0</td>\n      <td>1</td>\n      <td>0</td>\n      <td>0</td>\n      <td>0</td>\n      <td>0</td>\n      <td>0</td>\n      <td>1</td>\n      <td>0</td>\n      <td>0</td>\n    </tr>\n    <tr>\n      <th>...</th>\n      <td>...</td>\n      <td>...</td>\n      <td>...</td>\n      <td>...</td>\n      <td>...</td>\n      <td>...</td>\n      <td>...</td>\n      <td>...</td>\n      <td>...</td>\n      <td>...</td>\n      <td>...</td>\n      <td>...</td>\n      <td>...</td>\n      <td>...</td>\n      <td>...</td>\n      <td>...</td>\n      <td>...</td>\n      <td>...</td>\n      <td>...</td>\n      <td>...</td>\n      <td>...</td>\n    </tr>\n    <tr>\n      <th>471</th>\n      <td>Star Warz. W poszukiwaniu Holokronu.</td>\n      <td>Skierniewice</td>\n      <td>Gabinety Tajemnic</td>\n      <td>1-5 osób</td>\n      <td>60 minut</td>\n      <td>Fantasy</td>\n      <td>początkujący</td>\n      <td>Brak opinii</td>\n      <td>Polska: 461. miejsce</td>\n      <td>Brak opinii</td>\n      <td>...</td>\n      <td>0</td>\n      <td>0</td>\n      <td>0</td>\n      <td>0</td>\n      <td>1</td>\n      <td>1</td>\n      <td>0</td>\n      <td>1</td>\n      <td>0</td>\n      <td>0</td>\n    </tr>\n    <tr>\n      <th>472</th>\n      <td>Łóżko szpitalne</td>\n      <td>Katowice</td>\n      <td>Mystery Machinery</td>\n      <td>2-4 osoby</td>\n      <td>45 minut</td>\n      <td>Fabularny</td>\n      <td>doświadczony</td>\n      <td>1 opinia</td>\n      <td>Polska: 434. miejsce</td>\n      <td>9 .0\\r\\nObsługa:\\r\\n10/10\\r\\nKlimat:\\r\\n9/10\\r...</td>\n      <td>...</td>\n      <td>0</td>\n      <td>0</td>\n      <td>0</td>\n      <td>0</td>\n      <td>1</td>\n      <td>0</td>\n      <td>0</td>\n      <td>1</td>\n      <td>0</td>\n      <td>1</td>\n    </tr>\n    <tr>\n      <th>473</th>\n      <td>Squad Game</td>\n      <td>Kraków</td>\n      <td>Gamescape Kraków</td>\n      <td>2-4 osoby</td>\n      <td>30 minut</td>\n      <td>Przygodowy</td>\n      <td>doświadczony</td>\n      <td>Brak opinii</td>\n      <td>Polska: 461. miejsce</td>\n      <td>Brak opinii</td>\n      <td>...</td>\n      <td>0</td>\n      <td>0</td>\n      <td>0</td>\n      <td>0</td>\n      <td>1</td>\n      <td>0</td>\n      <td>0</td>\n      <td>1</td>\n      <td>0</td>\n      <td>0</td>\n    </tr>\n    <tr>\n      <th>474</th>\n      <td>Sekrety rodziny Montgomery</td>\n      <td>Tarnów</td>\n      <td>Trzy Klucze</td>\n      <td>2-5 osób</td>\n      <td>60 minut</td>\n      <td>Thriller</td>\n      <td>śr. zaawansowani</td>\n      <td>Brak opinii</td>\n      <td>Polska: 461. miejsce</td>\n      <td>Brak opinii</td>\n      <td>...</td>\n      <td>0</td>\n      <td>0</td>\n      <td>0</td>\n      <td>0</td>\n      <td>1</td>\n      <td>0</td>\n      <td>0</td>\n      <td>1</td>\n      <td>0</td>\n      <td>0</td>\n    </tr>\n    <tr>\n      <th>475</th>\n      <td>Laboratorium szalonego naukowca</td>\n      <td>Tarnów</td>\n      <td>Trzy Klucze</td>\n      <td>2-3 osoby</td>\n      <td>60 minut</td>\n      <td>Fabularny</td>\n      <td>śr. zaawansowani</td>\n      <td>Brak opinii</td>\n      <td>Polska: 461. miejsce</td>\n      <td>Brak opinii</td>\n      <td>...</td>\n      <td>0</td>\n      <td>0</td>\n      <td>0</td>\n      <td>0</td>\n      <td>1</td>\n      <td>0</td>\n      <td>0</td>\n      <td>1</td>\n      <td>0</td>\n      <td>0</td>\n    </tr>\n  </tbody>\n</table>\n<p>473 rows × 45 columns</p>\n</div>"
     },
     "execution_count": 5,
     "metadata": {},
     "output_type": "execute_result"
    }
   ],
   "source": [
    "for (key, value) in slownik_wartosci.items():\n",
    "    new_col = []\n",
    "    for i, row in data.iterrows():\n",
    "        if key in row.values:\n",
    "            new_col.append(1)\n",
    "        else:\n",
    "            new_col.append(0)\n",
    "    data[value] = new_col\n",
    "data.drop(columns=nazwy_kolumn, inplace=True)\n",
    "data"
   ],
   "metadata": {
    "collapsed": false,
    "pycharm": {
     "name": "#%%\n"
    }
   }
  },
  {
   "cell_type": "code",
   "execution_count": 6,
   "outputs": [],
   "source": [
    "data.to_csv('clean_data02.csv')"
   ],
   "metadata": {
    "collapsed": false,
    "pycharm": {
     "name": "#%%\n"
    }
   }
  }
 ],
 "metadata": {
  "kernelspec": {
   "display_name": "Python 3",
   "language": "python",
   "name": "python3"
  },
  "language_info": {
   "codemirror_mode": {
    "name": "ipython",
    "version": 2
   },
   "file_extension": ".py",
   "mimetype": "text/x-python",
   "name": "python",
   "nbconvert_exporter": "python",
   "pygments_lexer": "ipython2",
   "version": "2.7.6"
  }
 },
 "nbformat": 4,
 "nbformat_minor": 0
}